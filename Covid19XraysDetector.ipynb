{
  "nbformat": 4,
  "nbformat_minor": 0,
  "metadata": {
    "colab": {
      "name": "Projeto03_tunado.ipynb",
      "provenance": [],
      "collapsed_sections": [],
      "toc_visible": true,
      "machine_shape": "hm"
    },
    "kernelspec": {
      "name": "python3",
      "display_name": "Python 3"
    },
    "language_info": {
      "name": "python"
    },
    "accelerator": "GPU",
    "widgets": {
      "application/vnd.jupyter.widget-state+json": {
        "fb8adfcbe9b74c94b13cf26dfc17aa1f": {
          "model_module": "@jupyter-widgets/controls",
          "model_name": "VBoxModel",
          "state": {
            "_view_name": "VBoxView",
            "_dom_classes": [],
            "_model_name": "VBoxModel",
            "_view_module": "@jupyter-widgets/controls",
            "_model_module_version": "1.5.0",
            "_view_count": null,
            "_view_module_version": "1.5.0",
            "box_style": "",
            "layout": "IPY_MODEL_7563195c77f541498a9bc6d95c2efc7e",
            "_model_module": "@jupyter-widgets/controls",
            "children": [
              "IPY_MODEL_33a676525c804efa9806edefd529aa7b",
              "IPY_MODEL_45958f0899ae4190b3218663785ab26c"
            ]
          }
        },
        "7563195c77f541498a9bc6d95c2efc7e": {
          "model_module": "@jupyter-widgets/base",
          "model_name": "LayoutModel",
          "state": {
            "_view_name": "LayoutView",
            "grid_template_rows": null,
            "right": null,
            "justify_content": null,
            "_view_module": "@jupyter-widgets/base",
            "overflow": null,
            "_model_module_version": "1.2.0",
            "_view_count": null,
            "flex_flow": null,
            "width": null,
            "min_width": null,
            "border": null,
            "align_items": null,
            "bottom": null,
            "_model_module": "@jupyter-widgets/base",
            "top": null,
            "grid_column": null,
            "overflow_y": null,
            "overflow_x": null,
            "grid_auto_flow": null,
            "grid_area": null,
            "grid_template_columns": null,
            "flex": null,
            "_model_name": "LayoutModel",
            "justify_items": null,
            "grid_row": null,
            "max_height": null,
            "align_content": null,
            "visibility": null,
            "align_self": null,
            "height": null,
            "min_height": null,
            "padding": null,
            "grid_auto_rows": null,
            "grid_gap": null,
            "max_width": null,
            "order": null,
            "_view_module_version": "1.2.0",
            "grid_template_areas": null,
            "object_position": null,
            "object_fit": null,
            "grid_auto_columns": null,
            "margin": null,
            "display": null,
            "left": null
          }
        },
        "33a676525c804efa9806edefd529aa7b": {
          "model_module": "@jupyter-widgets/controls",
          "model_name": "LabelModel",
          "state": {
            "_view_name": "LabelView",
            "style": "IPY_MODEL_ae016447994e4c2a993c8debdd84c9f4",
            "_dom_classes": [],
            "description": "",
            "_model_name": "LabelModel",
            "placeholder": "​",
            "_view_module": "@jupyter-widgets/controls",
            "_model_module_version": "1.5.0",
            "value": " 101.00MB of 101.00MB uploaded (0.00MB deduped)\r",
            "_view_count": null,
            "_view_module_version": "1.5.0",
            "description_tooltip": null,
            "_model_module": "@jupyter-widgets/controls",
            "layout": "IPY_MODEL_cc96575d819a47c5b08c0232537bf2a6"
          }
        },
        "45958f0899ae4190b3218663785ab26c": {
          "model_module": "@jupyter-widgets/controls",
          "model_name": "FloatProgressModel",
          "state": {
            "_view_name": "ProgressView",
            "style": "IPY_MODEL_d7e06b572f7142448bb53b493a831950",
            "_dom_classes": [],
            "description": "",
            "_model_name": "FloatProgressModel",
            "bar_style": "",
            "max": 1,
            "_view_module": "@jupyter-widgets/controls",
            "_model_module_version": "1.5.0",
            "value": 1,
            "_view_count": null,
            "_view_module_version": "1.5.0",
            "orientation": "horizontal",
            "min": 0,
            "description_tooltip": null,
            "_model_module": "@jupyter-widgets/controls",
            "layout": "IPY_MODEL_8f21d73e13f54e778d83ebdab2215e7b"
          }
        },
        "ae016447994e4c2a993c8debdd84c9f4": {
          "model_module": "@jupyter-widgets/controls",
          "model_name": "DescriptionStyleModel",
          "state": {
            "_view_name": "StyleView",
            "_model_name": "DescriptionStyleModel",
            "description_width": "",
            "_view_module": "@jupyter-widgets/base",
            "_model_module_version": "1.5.0",
            "_view_count": null,
            "_view_module_version": "1.2.0",
            "_model_module": "@jupyter-widgets/controls"
          }
        },
        "cc96575d819a47c5b08c0232537bf2a6": {
          "model_module": "@jupyter-widgets/base",
          "model_name": "LayoutModel",
          "state": {
            "_view_name": "LayoutView",
            "grid_template_rows": null,
            "right": null,
            "justify_content": null,
            "_view_module": "@jupyter-widgets/base",
            "overflow": null,
            "_model_module_version": "1.2.0",
            "_view_count": null,
            "flex_flow": null,
            "width": null,
            "min_width": null,
            "border": null,
            "align_items": null,
            "bottom": null,
            "_model_module": "@jupyter-widgets/base",
            "top": null,
            "grid_column": null,
            "overflow_y": null,
            "overflow_x": null,
            "grid_auto_flow": null,
            "grid_area": null,
            "grid_template_columns": null,
            "flex": null,
            "_model_name": "LayoutModel",
            "justify_items": null,
            "grid_row": null,
            "max_height": null,
            "align_content": null,
            "visibility": null,
            "align_self": null,
            "height": null,
            "min_height": null,
            "padding": null,
            "grid_auto_rows": null,
            "grid_gap": null,
            "max_width": null,
            "order": null,
            "_view_module_version": "1.2.0",
            "grid_template_areas": null,
            "object_position": null,
            "object_fit": null,
            "grid_auto_columns": null,
            "margin": null,
            "display": null,
            "left": null
          }
        },
        "d7e06b572f7142448bb53b493a831950": {
          "model_module": "@jupyter-widgets/controls",
          "model_name": "ProgressStyleModel",
          "state": {
            "_view_name": "StyleView",
            "_model_name": "ProgressStyleModel",
            "description_width": "",
            "_view_module": "@jupyter-widgets/base",
            "_model_module_version": "1.5.0",
            "_view_count": null,
            "_view_module_version": "1.2.0",
            "bar_color": null,
            "_model_module": "@jupyter-widgets/controls"
          }
        },
        "8f21d73e13f54e778d83ebdab2215e7b": {
          "model_module": "@jupyter-widgets/base",
          "model_name": "LayoutModel",
          "state": {
            "_view_name": "LayoutView",
            "grid_template_rows": null,
            "right": null,
            "justify_content": null,
            "_view_module": "@jupyter-widgets/base",
            "overflow": null,
            "_model_module_version": "1.2.0",
            "_view_count": null,
            "flex_flow": null,
            "width": null,
            "min_width": null,
            "border": null,
            "align_items": null,
            "bottom": null,
            "_model_module": "@jupyter-widgets/base",
            "top": null,
            "grid_column": null,
            "overflow_y": null,
            "overflow_x": null,
            "grid_auto_flow": null,
            "grid_area": null,
            "grid_template_columns": null,
            "flex": null,
            "_model_name": "LayoutModel",
            "justify_items": null,
            "grid_row": null,
            "max_height": null,
            "align_content": null,
            "visibility": null,
            "align_self": null,
            "height": null,
            "min_height": null,
            "padding": null,
            "grid_auto_rows": null,
            "grid_gap": null,
            "max_width": null,
            "order": null,
            "_view_module_version": "1.2.0",
            "grid_template_areas": null,
            "object_position": null,
            "object_fit": null,
            "grid_auto_columns": null,
            "margin": null,
            "display": null,
            "left": null
          }
        },
        "7079e1d1431f4430a2cef424093b2082": {
          "model_module": "@jupyter-widgets/controls",
          "model_name": "VBoxModel",
          "state": {
            "_view_name": "VBoxView",
            "_dom_classes": [],
            "_model_name": "VBoxModel",
            "_view_module": "@jupyter-widgets/controls",
            "_model_module_version": "1.5.0",
            "_view_count": null,
            "_view_module_version": "1.5.0",
            "box_style": "",
            "layout": "IPY_MODEL_17e011282f17460ea014e08101137cc6",
            "_model_module": "@jupyter-widgets/controls",
            "children": [
              "IPY_MODEL_8c0684d0f2444952852331e1b57075db",
              "IPY_MODEL_7a918888f8c14a978b8e810cfbfbaaef"
            ]
          }
        },
        "17e011282f17460ea014e08101137cc6": {
          "model_module": "@jupyter-widgets/base",
          "model_name": "LayoutModel",
          "state": {
            "_view_name": "LayoutView",
            "grid_template_rows": null,
            "right": null,
            "justify_content": null,
            "_view_module": "@jupyter-widgets/base",
            "overflow": null,
            "_model_module_version": "1.2.0",
            "_view_count": null,
            "flex_flow": null,
            "width": null,
            "min_width": null,
            "border": null,
            "align_items": null,
            "bottom": null,
            "_model_module": "@jupyter-widgets/base",
            "top": null,
            "grid_column": null,
            "overflow_y": null,
            "overflow_x": null,
            "grid_auto_flow": null,
            "grid_area": null,
            "grid_template_columns": null,
            "flex": null,
            "_model_name": "LayoutModel",
            "justify_items": null,
            "grid_row": null,
            "max_height": null,
            "align_content": null,
            "visibility": null,
            "align_self": null,
            "height": null,
            "min_height": null,
            "padding": null,
            "grid_auto_rows": null,
            "grid_gap": null,
            "max_width": null,
            "order": null,
            "_view_module_version": "1.2.0",
            "grid_template_areas": null,
            "object_position": null,
            "object_fit": null,
            "grid_auto_columns": null,
            "margin": null,
            "display": null,
            "left": null
          }
        },
        "8c0684d0f2444952852331e1b57075db": {
          "model_module": "@jupyter-widgets/controls",
          "model_name": "LabelModel",
          "state": {
            "_view_name": "LabelView",
            "style": "IPY_MODEL_3e19c224d8d647b292c9077a878b9f84",
            "_dom_classes": [],
            "description": "",
            "_model_name": "LabelModel",
            "placeholder": "​",
            "_view_module": "@jupyter-widgets/controls",
            "_model_module_version": "1.5.0",
            "value": " 80.73MB of 80.73MB uploaded (0.00MB deduped)\r",
            "_view_count": null,
            "_view_module_version": "1.5.0",
            "description_tooltip": null,
            "_model_module": "@jupyter-widgets/controls",
            "layout": "IPY_MODEL_4e20cc35c8954dd2aa228916e1af9332"
          }
        },
        "7a918888f8c14a978b8e810cfbfbaaef": {
          "model_module": "@jupyter-widgets/controls",
          "model_name": "FloatProgressModel",
          "state": {
            "_view_name": "ProgressView",
            "style": "IPY_MODEL_0af72f3bdf08407dae2472381ad90db9",
            "_dom_classes": [],
            "description": "",
            "_model_name": "FloatProgressModel",
            "bar_style": "",
            "max": 1,
            "_view_module": "@jupyter-widgets/controls",
            "_model_module_version": "1.5.0",
            "value": 1,
            "_view_count": null,
            "_view_module_version": "1.5.0",
            "orientation": "horizontal",
            "min": 0,
            "description_tooltip": null,
            "_model_module": "@jupyter-widgets/controls",
            "layout": "IPY_MODEL_941eed92b92d483b9848e23f92493063"
          }
        },
        "3e19c224d8d647b292c9077a878b9f84": {
          "model_module": "@jupyter-widgets/controls",
          "model_name": "DescriptionStyleModel",
          "state": {
            "_view_name": "StyleView",
            "_model_name": "DescriptionStyleModel",
            "description_width": "",
            "_view_module": "@jupyter-widgets/base",
            "_model_module_version": "1.5.0",
            "_view_count": null,
            "_view_module_version": "1.2.0",
            "_model_module": "@jupyter-widgets/controls"
          }
        },
        "4e20cc35c8954dd2aa228916e1af9332": {
          "model_module": "@jupyter-widgets/base",
          "model_name": "LayoutModel",
          "state": {
            "_view_name": "LayoutView",
            "grid_template_rows": null,
            "right": null,
            "justify_content": null,
            "_view_module": "@jupyter-widgets/base",
            "overflow": null,
            "_model_module_version": "1.2.0",
            "_view_count": null,
            "flex_flow": null,
            "width": null,
            "min_width": null,
            "border": null,
            "align_items": null,
            "bottom": null,
            "_model_module": "@jupyter-widgets/base",
            "top": null,
            "grid_column": null,
            "overflow_y": null,
            "overflow_x": null,
            "grid_auto_flow": null,
            "grid_area": null,
            "grid_template_columns": null,
            "flex": null,
            "_model_name": "LayoutModel",
            "justify_items": null,
            "grid_row": null,
            "max_height": null,
            "align_content": null,
            "visibility": null,
            "align_self": null,
            "height": null,
            "min_height": null,
            "padding": null,
            "grid_auto_rows": null,
            "grid_gap": null,
            "max_width": null,
            "order": null,
            "_view_module_version": "1.2.0",
            "grid_template_areas": null,
            "object_position": null,
            "object_fit": null,
            "grid_auto_columns": null,
            "margin": null,
            "display": null,
            "left": null
          }
        },
        "0af72f3bdf08407dae2472381ad90db9": {
          "model_module": "@jupyter-widgets/controls",
          "model_name": "ProgressStyleModel",
          "state": {
            "_view_name": "StyleView",
            "_model_name": "ProgressStyleModel",
            "description_width": "",
            "_view_module": "@jupyter-widgets/base",
            "_model_module_version": "1.5.0",
            "_view_count": null,
            "_view_module_version": "1.2.0",
            "bar_color": null,
            "_model_module": "@jupyter-widgets/controls"
          }
        },
        "941eed92b92d483b9848e23f92493063": {
          "model_module": "@jupyter-widgets/base",
          "model_name": "LayoutModel",
          "state": {
            "_view_name": "LayoutView",
            "grid_template_rows": null,
            "right": null,
            "justify_content": null,
            "_view_module": "@jupyter-widgets/base",
            "overflow": null,
            "_model_module_version": "1.2.0",
            "_view_count": null,
            "flex_flow": null,
            "width": null,
            "min_width": null,
            "border": null,
            "align_items": null,
            "bottom": null,
            "_model_module": "@jupyter-widgets/base",
            "top": null,
            "grid_column": null,
            "overflow_y": null,
            "overflow_x": null,
            "grid_auto_flow": null,
            "grid_area": null,
            "grid_template_columns": null,
            "flex": null,
            "_model_name": "LayoutModel",
            "justify_items": null,
            "grid_row": null,
            "max_height": null,
            "align_content": null,
            "visibility": null,
            "align_self": null,
            "height": null,
            "min_height": null,
            "padding": null,
            "grid_auto_rows": null,
            "grid_gap": null,
            "max_width": null,
            "order": null,
            "_view_module_version": "1.2.0",
            "grid_template_areas": null,
            "object_position": null,
            "object_fit": null,
            "grid_auto_columns": null,
            "margin": null,
            "display": null,
            "left": null
          }
        },
        "bc56060220bf4c6486e2aca56080cf4f": {
          "model_module": "@jupyter-widgets/controls",
          "model_name": "VBoxModel",
          "state": {
            "_view_name": "VBoxView",
            "_dom_classes": [],
            "_model_name": "VBoxModel",
            "_view_module": "@jupyter-widgets/controls",
            "_model_module_version": "1.5.0",
            "_view_count": null,
            "_view_module_version": "1.5.0",
            "box_style": "",
            "layout": "IPY_MODEL_73a16555733e42299d15e27aeba8c6e1",
            "_model_module": "@jupyter-widgets/controls",
            "children": [
              "IPY_MODEL_bbbb5cc171524648869b02d1817e2e9c",
              "IPY_MODEL_c2432a53914d47ae801610c5643d5e55"
            ]
          }
        },
        "73a16555733e42299d15e27aeba8c6e1": {
          "model_module": "@jupyter-widgets/base",
          "model_name": "LayoutModel",
          "state": {
            "_view_name": "LayoutView",
            "grid_template_rows": null,
            "right": null,
            "justify_content": null,
            "_view_module": "@jupyter-widgets/base",
            "overflow": null,
            "_model_module_version": "1.2.0",
            "_view_count": null,
            "flex_flow": null,
            "width": null,
            "min_width": null,
            "border": null,
            "align_items": null,
            "bottom": null,
            "_model_module": "@jupyter-widgets/base",
            "top": null,
            "grid_column": null,
            "overflow_y": null,
            "overflow_x": null,
            "grid_auto_flow": null,
            "grid_area": null,
            "grid_template_columns": null,
            "flex": null,
            "_model_name": "LayoutModel",
            "justify_items": null,
            "grid_row": null,
            "max_height": null,
            "align_content": null,
            "visibility": null,
            "align_self": null,
            "height": null,
            "min_height": null,
            "padding": null,
            "grid_auto_rows": null,
            "grid_gap": null,
            "max_width": null,
            "order": null,
            "_view_module_version": "1.2.0",
            "grid_template_areas": null,
            "object_position": null,
            "object_fit": null,
            "grid_auto_columns": null,
            "margin": null,
            "display": null,
            "left": null
          }
        },
        "bbbb5cc171524648869b02d1817e2e9c": {
          "model_module": "@jupyter-widgets/controls",
          "model_name": "LabelModel",
          "state": {
            "_view_name": "LabelView",
            "style": "IPY_MODEL_f12ab97f66d346f2a5d3136caf79d12e",
            "_dom_classes": [],
            "description": "",
            "_model_name": "LabelModel",
            "placeholder": "​",
            "_view_module": "@jupyter-widgets/controls",
            "_model_module_version": "1.5.0",
            "value": " 188.52MB of 188.52MB uploaded (0.00MB deduped)\r",
            "_view_count": null,
            "_view_module_version": "1.5.0",
            "description_tooltip": null,
            "_model_module": "@jupyter-widgets/controls",
            "layout": "IPY_MODEL_429168d429be4e82850e0c1f0cb409cc"
          }
        },
        "c2432a53914d47ae801610c5643d5e55": {
          "model_module": "@jupyter-widgets/controls",
          "model_name": "FloatProgressModel",
          "state": {
            "_view_name": "ProgressView",
            "style": "IPY_MODEL_194e8108beb442b5b2edc4d87fe87b85",
            "_dom_classes": [],
            "description": "",
            "_model_name": "FloatProgressModel",
            "bar_style": "",
            "max": 1,
            "_view_module": "@jupyter-widgets/controls",
            "_model_module_version": "1.5.0",
            "value": 1,
            "_view_count": null,
            "_view_module_version": "1.5.0",
            "orientation": "horizontal",
            "min": 0,
            "description_tooltip": null,
            "_model_module": "@jupyter-widgets/controls",
            "layout": "IPY_MODEL_d336e56c5b1f46ce9e2a4ed2df6498c3"
          }
        },
        "f12ab97f66d346f2a5d3136caf79d12e": {
          "model_module": "@jupyter-widgets/controls",
          "model_name": "DescriptionStyleModel",
          "state": {
            "_view_name": "StyleView",
            "_model_name": "DescriptionStyleModel",
            "description_width": "",
            "_view_module": "@jupyter-widgets/base",
            "_model_module_version": "1.5.0",
            "_view_count": null,
            "_view_module_version": "1.2.0",
            "_model_module": "@jupyter-widgets/controls"
          }
        },
        "429168d429be4e82850e0c1f0cb409cc": {
          "model_module": "@jupyter-widgets/base",
          "model_name": "LayoutModel",
          "state": {
            "_view_name": "LayoutView",
            "grid_template_rows": null,
            "right": null,
            "justify_content": null,
            "_view_module": "@jupyter-widgets/base",
            "overflow": null,
            "_model_module_version": "1.2.0",
            "_view_count": null,
            "flex_flow": null,
            "width": null,
            "min_width": null,
            "border": null,
            "align_items": null,
            "bottom": null,
            "_model_module": "@jupyter-widgets/base",
            "top": null,
            "grid_column": null,
            "overflow_y": null,
            "overflow_x": null,
            "grid_auto_flow": null,
            "grid_area": null,
            "grid_template_columns": null,
            "flex": null,
            "_model_name": "LayoutModel",
            "justify_items": null,
            "grid_row": null,
            "max_height": null,
            "align_content": null,
            "visibility": null,
            "align_self": null,
            "height": null,
            "min_height": null,
            "padding": null,
            "grid_auto_rows": null,
            "grid_gap": null,
            "max_width": null,
            "order": null,
            "_view_module_version": "1.2.0",
            "grid_template_areas": null,
            "object_position": null,
            "object_fit": null,
            "grid_auto_columns": null,
            "margin": null,
            "display": null,
            "left": null
          }
        },
        "194e8108beb442b5b2edc4d87fe87b85": {
          "model_module": "@jupyter-widgets/controls",
          "model_name": "ProgressStyleModel",
          "state": {
            "_view_name": "StyleView",
            "_model_name": "ProgressStyleModel",
            "description_width": "",
            "_view_module": "@jupyter-widgets/base",
            "_model_module_version": "1.5.0",
            "_view_count": null,
            "_view_module_version": "1.2.0",
            "bar_color": null,
            "_model_module": "@jupyter-widgets/controls"
          }
        },
        "d336e56c5b1f46ce9e2a4ed2df6498c3": {
          "model_module": "@jupyter-widgets/base",
          "model_name": "LayoutModel",
          "state": {
            "_view_name": "LayoutView",
            "grid_template_rows": null,
            "right": null,
            "justify_content": null,
            "_view_module": "@jupyter-widgets/base",
            "overflow": null,
            "_model_module_version": "1.2.0",
            "_view_count": null,
            "flex_flow": null,
            "width": null,
            "min_width": null,
            "border": null,
            "align_items": null,
            "bottom": null,
            "_model_module": "@jupyter-widgets/base",
            "top": null,
            "grid_column": null,
            "overflow_y": null,
            "overflow_x": null,
            "grid_auto_flow": null,
            "grid_area": null,
            "grid_template_columns": null,
            "flex": null,
            "_model_name": "LayoutModel",
            "justify_items": null,
            "grid_row": null,
            "max_height": null,
            "align_content": null,
            "visibility": null,
            "align_self": null,
            "height": null,
            "min_height": null,
            "padding": null,
            "grid_auto_rows": null,
            "grid_gap": null,
            "max_width": null,
            "order": null,
            "_view_module_version": "1.2.0",
            "grid_template_areas": null,
            "object_position": null,
            "object_fit": null,
            "grid_auto_columns": null,
            "margin": null,
            "display": null,
            "left": null
          }
        },
        "3c4b3ac702274f9b949a37b46b2a5713": {
          "model_module": "@jupyter-widgets/controls",
          "model_name": "VBoxModel",
          "state": {
            "_view_name": "VBoxView",
            "_dom_classes": [],
            "_model_name": "VBoxModel",
            "_view_module": "@jupyter-widgets/controls",
            "_model_module_version": "1.5.0",
            "_view_count": null,
            "_view_module_version": "1.5.0",
            "box_style": "",
            "layout": "IPY_MODEL_a9264b9434a241fcb15f75381aa7fcdb",
            "_model_module": "@jupyter-widgets/controls",
            "children": [
              "IPY_MODEL_6c472a1a67354d13a2092b118487ce0f",
              "IPY_MODEL_f986dbeb1ac042c892ca96e8a1ec2f39"
            ]
          }
        },
        "a9264b9434a241fcb15f75381aa7fcdb": {
          "model_module": "@jupyter-widgets/base",
          "model_name": "LayoutModel",
          "state": {
            "_view_name": "LayoutView",
            "grid_template_rows": null,
            "right": null,
            "justify_content": null,
            "_view_module": "@jupyter-widgets/base",
            "overflow": null,
            "_model_module_version": "1.2.0",
            "_view_count": null,
            "flex_flow": null,
            "width": null,
            "min_width": null,
            "border": null,
            "align_items": null,
            "bottom": null,
            "_model_module": "@jupyter-widgets/base",
            "top": null,
            "grid_column": null,
            "overflow_y": null,
            "overflow_x": null,
            "grid_auto_flow": null,
            "grid_area": null,
            "grid_template_columns": null,
            "flex": null,
            "_model_name": "LayoutModel",
            "justify_items": null,
            "grid_row": null,
            "max_height": null,
            "align_content": null,
            "visibility": null,
            "align_self": null,
            "height": null,
            "min_height": null,
            "padding": null,
            "grid_auto_rows": null,
            "grid_gap": null,
            "max_width": null,
            "order": null,
            "_view_module_version": "1.2.0",
            "grid_template_areas": null,
            "object_position": null,
            "object_fit": null,
            "grid_auto_columns": null,
            "margin": null,
            "display": null,
            "left": null
          }
        },
        "6c472a1a67354d13a2092b118487ce0f": {
          "model_module": "@jupyter-widgets/controls",
          "model_name": "LabelModel",
          "state": {
            "_view_name": "LabelView",
            "style": "IPY_MODEL_b0c30219dfc24ad188facac4d744b88e",
            "_dom_classes": [],
            "description": "",
            "_model_name": "LabelModel",
            "placeholder": "​",
            "_view_module": "@jupyter-widgets/controls",
            "_model_module_version": "1.5.0",
            "value": " 311.52MB of 311.52MB uploaded (0.00MB deduped)\r",
            "_view_count": null,
            "_view_module_version": "1.5.0",
            "description_tooltip": null,
            "_model_module": "@jupyter-widgets/controls",
            "layout": "IPY_MODEL_ba55bfc1cd564d9fa01f5d6e16edcf12"
          }
        },
        "f986dbeb1ac042c892ca96e8a1ec2f39": {
          "model_module": "@jupyter-widgets/controls",
          "model_name": "FloatProgressModel",
          "state": {
            "_view_name": "ProgressView",
            "style": "IPY_MODEL_71fbc626ce254f5fa10bdd23a7d18e54",
            "_dom_classes": [],
            "description": "",
            "_model_name": "FloatProgressModel",
            "bar_style": "",
            "max": 1,
            "_view_module": "@jupyter-widgets/controls",
            "_model_module_version": "1.5.0",
            "value": 1,
            "_view_count": null,
            "_view_module_version": "1.5.0",
            "orientation": "horizontal",
            "min": 0,
            "description_tooltip": null,
            "_model_module": "@jupyter-widgets/controls",
            "layout": "IPY_MODEL_1126a6d83c6e4fa99b296ca71482f913"
          }
        },
        "b0c30219dfc24ad188facac4d744b88e": {
          "model_module": "@jupyter-widgets/controls",
          "model_name": "DescriptionStyleModel",
          "state": {
            "_view_name": "StyleView",
            "_model_name": "DescriptionStyleModel",
            "description_width": "",
            "_view_module": "@jupyter-widgets/base",
            "_model_module_version": "1.5.0",
            "_view_count": null,
            "_view_module_version": "1.2.0",
            "_model_module": "@jupyter-widgets/controls"
          }
        },
        "ba55bfc1cd564d9fa01f5d6e16edcf12": {
          "model_module": "@jupyter-widgets/base",
          "model_name": "LayoutModel",
          "state": {
            "_view_name": "LayoutView",
            "grid_template_rows": null,
            "right": null,
            "justify_content": null,
            "_view_module": "@jupyter-widgets/base",
            "overflow": null,
            "_model_module_version": "1.2.0",
            "_view_count": null,
            "flex_flow": null,
            "width": null,
            "min_width": null,
            "border": null,
            "align_items": null,
            "bottom": null,
            "_model_module": "@jupyter-widgets/base",
            "top": null,
            "grid_column": null,
            "overflow_y": null,
            "overflow_x": null,
            "grid_auto_flow": null,
            "grid_area": null,
            "grid_template_columns": null,
            "flex": null,
            "_model_name": "LayoutModel",
            "justify_items": null,
            "grid_row": null,
            "max_height": null,
            "align_content": null,
            "visibility": null,
            "align_self": null,
            "height": null,
            "min_height": null,
            "padding": null,
            "grid_auto_rows": null,
            "grid_gap": null,
            "max_width": null,
            "order": null,
            "_view_module_version": "1.2.0",
            "grid_template_areas": null,
            "object_position": null,
            "object_fit": null,
            "grid_auto_columns": null,
            "margin": null,
            "display": null,
            "left": null
          }
        },
        "71fbc626ce254f5fa10bdd23a7d18e54": {
          "model_module": "@jupyter-widgets/controls",
          "model_name": "ProgressStyleModel",
          "state": {
            "_view_name": "StyleView",
            "_model_name": "ProgressStyleModel",
            "description_width": "",
            "_view_module": "@jupyter-widgets/base",
            "_model_module_version": "1.5.0",
            "_view_count": null,
            "_view_module_version": "1.2.0",
            "bar_color": null,
            "_model_module": "@jupyter-widgets/controls"
          }
        },
        "1126a6d83c6e4fa99b296ca71482f913": {
          "model_module": "@jupyter-widgets/base",
          "model_name": "LayoutModel",
          "state": {
            "_view_name": "LayoutView",
            "grid_template_rows": null,
            "right": null,
            "justify_content": null,
            "_view_module": "@jupyter-widgets/base",
            "overflow": null,
            "_model_module_version": "1.2.0",
            "_view_count": null,
            "flex_flow": null,
            "width": null,
            "min_width": null,
            "border": null,
            "align_items": null,
            "bottom": null,
            "_model_module": "@jupyter-widgets/base",
            "top": null,
            "grid_column": null,
            "overflow_y": null,
            "overflow_x": null,
            "grid_auto_flow": null,
            "grid_area": null,
            "grid_template_columns": null,
            "flex": null,
            "_model_name": "LayoutModel",
            "justify_items": null,
            "grid_row": null,
            "max_height": null,
            "align_content": null,
            "visibility": null,
            "align_self": null,
            "height": null,
            "min_height": null,
            "padding": null,
            "grid_auto_rows": null,
            "grid_gap": null,
            "max_width": null,
            "order": null,
            "_view_module_version": "1.2.0",
            "grid_template_areas": null,
            "object_position": null,
            "object_fit": null,
            "grid_auto_columns": null,
            "margin": null,
            "display": null,
            "left": null
          }
        },
        "5107364800084861b1232a3145fd4a45": {
          "model_module": "@jupyter-widgets/controls",
          "model_name": "VBoxModel",
          "state": {
            "_view_name": "VBoxView",
            "_dom_classes": [],
            "_model_name": "VBoxModel",
            "_view_module": "@jupyter-widgets/controls",
            "_model_module_version": "1.5.0",
            "_view_count": null,
            "_view_module_version": "1.5.0",
            "box_style": "",
            "layout": "IPY_MODEL_ff5e729a1b0a4ae5aa95e76c759cf119",
            "_model_module": "@jupyter-widgets/controls",
            "children": [
              "IPY_MODEL_d92bc85caf4c4125ae67f4478f71191a",
              "IPY_MODEL_f6d86ceac9734ccca9744f311b43a978"
            ]
          }
        },
        "ff5e729a1b0a4ae5aa95e76c759cf119": {
          "model_module": "@jupyter-widgets/base",
          "model_name": "LayoutModel",
          "state": {
            "_view_name": "LayoutView",
            "grid_template_rows": null,
            "right": null,
            "justify_content": null,
            "_view_module": "@jupyter-widgets/base",
            "overflow": null,
            "_model_module_version": "1.2.0",
            "_view_count": null,
            "flex_flow": null,
            "width": null,
            "min_width": null,
            "border": null,
            "align_items": null,
            "bottom": null,
            "_model_module": "@jupyter-widgets/base",
            "top": null,
            "grid_column": null,
            "overflow_y": null,
            "overflow_x": null,
            "grid_auto_flow": null,
            "grid_area": null,
            "grid_template_columns": null,
            "flex": null,
            "_model_name": "LayoutModel",
            "justify_items": null,
            "grid_row": null,
            "max_height": null,
            "align_content": null,
            "visibility": null,
            "align_self": null,
            "height": null,
            "min_height": null,
            "padding": null,
            "grid_auto_rows": null,
            "grid_gap": null,
            "max_width": null,
            "order": null,
            "_view_module_version": "1.2.0",
            "grid_template_areas": null,
            "object_position": null,
            "object_fit": null,
            "grid_auto_columns": null,
            "margin": null,
            "display": null,
            "left": null
          }
        },
        "d92bc85caf4c4125ae67f4478f71191a": {
          "model_module": "@jupyter-widgets/controls",
          "model_name": "LabelModel",
          "state": {
            "_view_name": "LabelView",
            "style": "IPY_MODEL_b9a7114d663349f6af9e129f3d574ddf",
            "_dom_classes": [],
            "description": "",
            "_model_name": "LabelModel",
            "placeholder": "​",
            "_view_module": "@jupyter-widgets/controls",
            "_model_module_version": "1.5.0",
            "value": " 177.94MB of 177.94MB uploaded (0.00MB deduped)\r",
            "_view_count": null,
            "_view_module_version": "1.5.0",
            "description_tooltip": null,
            "_model_module": "@jupyter-widgets/controls",
            "layout": "IPY_MODEL_2b478318d55846ac8c6540878842f0a9"
          }
        },
        "f6d86ceac9734ccca9744f311b43a978": {
          "model_module": "@jupyter-widgets/controls",
          "model_name": "FloatProgressModel",
          "state": {
            "_view_name": "ProgressView",
            "style": "IPY_MODEL_38274a2618d84acda06028318c4d22a8",
            "_dom_classes": [],
            "description": "",
            "_model_name": "FloatProgressModel",
            "bar_style": "",
            "max": 1,
            "_view_module": "@jupyter-widgets/controls",
            "_model_module_version": "1.5.0",
            "value": 1,
            "_view_count": null,
            "_view_module_version": "1.5.0",
            "orientation": "horizontal",
            "min": 0,
            "description_tooltip": null,
            "_model_module": "@jupyter-widgets/controls",
            "layout": "IPY_MODEL_9356944fe5b84c49800f8398ddfbbd2c"
          }
        },
        "b9a7114d663349f6af9e129f3d574ddf": {
          "model_module": "@jupyter-widgets/controls",
          "model_name": "DescriptionStyleModel",
          "state": {
            "_view_name": "StyleView",
            "_model_name": "DescriptionStyleModel",
            "description_width": "",
            "_view_module": "@jupyter-widgets/base",
            "_model_module_version": "1.5.0",
            "_view_count": null,
            "_view_module_version": "1.2.0",
            "_model_module": "@jupyter-widgets/controls"
          }
        },
        "2b478318d55846ac8c6540878842f0a9": {
          "model_module": "@jupyter-widgets/base",
          "model_name": "LayoutModel",
          "state": {
            "_view_name": "LayoutView",
            "grid_template_rows": null,
            "right": null,
            "justify_content": null,
            "_view_module": "@jupyter-widgets/base",
            "overflow": null,
            "_model_module_version": "1.2.0",
            "_view_count": null,
            "flex_flow": null,
            "width": null,
            "min_width": null,
            "border": null,
            "align_items": null,
            "bottom": null,
            "_model_module": "@jupyter-widgets/base",
            "top": null,
            "grid_column": null,
            "overflow_y": null,
            "overflow_x": null,
            "grid_auto_flow": null,
            "grid_area": null,
            "grid_template_columns": null,
            "flex": null,
            "_model_name": "LayoutModel",
            "justify_items": null,
            "grid_row": null,
            "max_height": null,
            "align_content": null,
            "visibility": null,
            "align_self": null,
            "height": null,
            "min_height": null,
            "padding": null,
            "grid_auto_rows": null,
            "grid_gap": null,
            "max_width": null,
            "order": null,
            "_view_module_version": "1.2.0",
            "grid_template_areas": null,
            "object_position": null,
            "object_fit": null,
            "grid_auto_columns": null,
            "margin": null,
            "display": null,
            "left": null
          }
        },
        "38274a2618d84acda06028318c4d22a8": {
          "model_module": "@jupyter-widgets/controls",
          "model_name": "ProgressStyleModel",
          "state": {
            "_view_name": "StyleView",
            "_model_name": "ProgressStyleModel",
            "description_width": "",
            "_view_module": "@jupyter-widgets/base",
            "_model_module_version": "1.5.0",
            "_view_count": null,
            "_view_module_version": "1.2.0",
            "bar_color": null,
            "_model_module": "@jupyter-widgets/controls"
          }
        },
        "9356944fe5b84c49800f8398ddfbbd2c": {
          "model_module": "@jupyter-widgets/base",
          "model_name": "LayoutModel",
          "state": {
            "_view_name": "LayoutView",
            "grid_template_rows": null,
            "right": null,
            "justify_content": null,
            "_view_module": "@jupyter-widgets/base",
            "overflow": null,
            "_model_module_version": "1.2.0",
            "_view_count": null,
            "flex_flow": null,
            "width": null,
            "min_width": null,
            "border": null,
            "align_items": null,
            "bottom": null,
            "_model_module": "@jupyter-widgets/base",
            "top": null,
            "grid_column": null,
            "overflow_y": null,
            "overflow_x": null,
            "grid_auto_flow": null,
            "grid_area": null,
            "grid_template_columns": null,
            "flex": null,
            "_model_name": "LayoutModel",
            "justify_items": null,
            "grid_row": null,
            "max_height": null,
            "align_content": null,
            "visibility": null,
            "align_self": null,
            "height": null,
            "min_height": null,
            "padding": null,
            "grid_auto_rows": null,
            "grid_gap": null,
            "max_width": null,
            "order": null,
            "_view_module_version": "1.2.0",
            "grid_template_areas": null,
            "object_position": null,
            "object_fit": null,
            "grid_auto_columns": null,
            "margin": null,
            "display": null,
            "left": null
          }
        },
        "f4235468edf7411294dc27097da720a9": {
          "model_module": "@jupyter-widgets/controls",
          "model_name": "VBoxModel",
          "state": {
            "_view_name": "VBoxView",
            "_dom_classes": [],
            "_model_name": "VBoxModel",
            "_view_module": "@jupyter-widgets/controls",
            "_model_module_version": "1.5.0",
            "_view_count": null,
            "_view_module_version": "1.5.0",
            "box_style": "",
            "layout": "IPY_MODEL_90f00fc48f334a0680867a4f41b88a6e",
            "_model_module": "@jupyter-widgets/controls",
            "children": [
              "IPY_MODEL_2a9b8e2bca634fac8e324a2853198f0a",
              "IPY_MODEL_1fa42c5890a248faaa2867dcdbac08d8"
            ]
          }
        },
        "90f00fc48f334a0680867a4f41b88a6e": {
          "model_module": "@jupyter-widgets/base",
          "model_name": "LayoutModel",
          "state": {
            "_view_name": "LayoutView",
            "grid_template_rows": null,
            "right": null,
            "justify_content": null,
            "_view_module": "@jupyter-widgets/base",
            "overflow": null,
            "_model_module_version": "1.2.0",
            "_view_count": null,
            "flex_flow": null,
            "width": null,
            "min_width": null,
            "border": null,
            "align_items": null,
            "bottom": null,
            "_model_module": "@jupyter-widgets/base",
            "top": null,
            "grid_column": null,
            "overflow_y": null,
            "overflow_x": null,
            "grid_auto_flow": null,
            "grid_area": null,
            "grid_template_columns": null,
            "flex": null,
            "_model_name": "LayoutModel",
            "justify_items": null,
            "grid_row": null,
            "max_height": null,
            "align_content": null,
            "visibility": null,
            "align_self": null,
            "height": null,
            "min_height": null,
            "padding": null,
            "grid_auto_rows": null,
            "grid_gap": null,
            "max_width": null,
            "order": null,
            "_view_module_version": "1.2.0",
            "grid_template_areas": null,
            "object_position": null,
            "object_fit": null,
            "grid_auto_columns": null,
            "margin": null,
            "display": null,
            "left": null
          }
        },
        "2a9b8e2bca634fac8e324a2853198f0a": {
          "model_module": "@jupyter-widgets/controls",
          "model_name": "LabelModel",
          "state": {
            "_view_name": "LabelView",
            "style": "IPY_MODEL_fbd5856fa9fe4ed1ab2c90499f6b760f",
            "_dom_classes": [],
            "description": "",
            "_model_name": "LabelModel",
            "placeholder": "​",
            "_view_module": "@jupyter-widgets/controls",
            "_model_module_version": "1.5.0",
            "value": " 61.59MB of 61.59MB uploaded (0.00MB deduped)\r",
            "_view_count": null,
            "_view_module_version": "1.5.0",
            "description_tooltip": null,
            "_model_module": "@jupyter-widgets/controls",
            "layout": "IPY_MODEL_283d186ed9504387a559ff16621a25c6"
          }
        },
        "1fa42c5890a248faaa2867dcdbac08d8": {
          "model_module": "@jupyter-widgets/controls",
          "model_name": "FloatProgressModel",
          "state": {
            "_view_name": "ProgressView",
            "style": "IPY_MODEL_034cc296b8f84d1c995fd5e57ce5340c",
            "_dom_classes": [],
            "description": "",
            "_model_name": "FloatProgressModel",
            "bar_style": "",
            "max": 1,
            "_view_module": "@jupyter-widgets/controls",
            "_model_module_version": "1.5.0",
            "value": 1,
            "_view_count": null,
            "_view_module_version": "1.5.0",
            "orientation": "horizontal",
            "min": 0,
            "description_tooltip": null,
            "_model_module": "@jupyter-widgets/controls",
            "layout": "IPY_MODEL_5d2579e8fcf54dd9888ee7b0c8219fc8"
          }
        },
        "fbd5856fa9fe4ed1ab2c90499f6b760f": {
          "model_module": "@jupyter-widgets/controls",
          "model_name": "DescriptionStyleModel",
          "state": {
            "_view_name": "StyleView",
            "_model_name": "DescriptionStyleModel",
            "description_width": "",
            "_view_module": "@jupyter-widgets/base",
            "_model_module_version": "1.5.0",
            "_view_count": null,
            "_view_module_version": "1.2.0",
            "_model_module": "@jupyter-widgets/controls"
          }
        },
        "283d186ed9504387a559ff16621a25c6": {
          "model_module": "@jupyter-widgets/base",
          "model_name": "LayoutModel",
          "state": {
            "_view_name": "LayoutView",
            "grid_template_rows": null,
            "right": null,
            "justify_content": null,
            "_view_module": "@jupyter-widgets/base",
            "overflow": null,
            "_model_module_version": "1.2.0",
            "_view_count": null,
            "flex_flow": null,
            "width": null,
            "min_width": null,
            "border": null,
            "align_items": null,
            "bottom": null,
            "_model_module": "@jupyter-widgets/base",
            "top": null,
            "grid_column": null,
            "overflow_y": null,
            "overflow_x": null,
            "grid_auto_flow": null,
            "grid_area": null,
            "grid_template_columns": null,
            "flex": null,
            "_model_name": "LayoutModel",
            "justify_items": null,
            "grid_row": null,
            "max_height": null,
            "align_content": null,
            "visibility": null,
            "align_self": null,
            "height": null,
            "min_height": null,
            "padding": null,
            "grid_auto_rows": null,
            "grid_gap": null,
            "max_width": null,
            "order": null,
            "_view_module_version": "1.2.0",
            "grid_template_areas": null,
            "object_position": null,
            "object_fit": null,
            "grid_auto_columns": null,
            "margin": null,
            "display": null,
            "left": null
          }
        },
        "034cc296b8f84d1c995fd5e57ce5340c": {
          "model_module": "@jupyter-widgets/controls",
          "model_name": "ProgressStyleModel",
          "state": {
            "_view_name": "StyleView",
            "_model_name": "ProgressStyleModel",
            "description_width": "",
            "_view_module": "@jupyter-widgets/base",
            "_model_module_version": "1.5.0",
            "_view_count": null,
            "_view_module_version": "1.2.0",
            "bar_color": null,
            "_model_module": "@jupyter-widgets/controls"
          }
        },
        "5d2579e8fcf54dd9888ee7b0c8219fc8": {
          "model_module": "@jupyter-widgets/base",
          "model_name": "LayoutModel",
          "state": {
            "_view_name": "LayoutView",
            "grid_template_rows": null,
            "right": null,
            "justify_content": null,
            "_view_module": "@jupyter-widgets/base",
            "overflow": null,
            "_model_module_version": "1.2.0",
            "_view_count": null,
            "flex_flow": null,
            "width": null,
            "min_width": null,
            "border": null,
            "align_items": null,
            "bottom": null,
            "_model_module": "@jupyter-widgets/base",
            "top": null,
            "grid_column": null,
            "overflow_y": null,
            "overflow_x": null,
            "grid_auto_flow": null,
            "grid_area": null,
            "grid_template_columns": null,
            "flex": null,
            "_model_name": "LayoutModel",
            "justify_items": null,
            "grid_row": null,
            "max_height": null,
            "align_content": null,
            "visibility": null,
            "align_self": null,
            "height": null,
            "min_height": null,
            "padding": null,
            "grid_auto_rows": null,
            "grid_gap": null,
            "max_width": null,
            "order": null,
            "_view_module_version": "1.2.0",
            "grid_template_areas": null,
            "object_position": null,
            "object_fit": null,
            "grid_auto_columns": null,
            "margin": null,
            "display": null,
            "left": null
          }
        }
      }
    }
  },
  "cells": [
    {
      "cell_type": "markdown",
      "metadata": {
        "id": "5w5zFxfy0Xbr"
      },
      "source": [
        "# **Preparação**\n",
        "\n",
        "\n"
      ]
    },
    {
      "cell_type": "markdown",
      "metadata": {
        "id": "sp-l22Z60uQy"
      },
      "source": [
        "Instala o Wandb"
      ]
    },
    {
      "cell_type": "code",
      "metadata": {
        "colab": {
          "base_uri": "https://localhost:8080/"
        },
        "id": "Tb51mp7B0Og9",
        "outputId": "a96f8d79-31e4-472a-aa17-94092aa66ba3"
      },
      "source": [
        "pip install wandb"
      ],
      "execution_count": null,
      "outputs": [
        {
          "output_type": "stream",
          "text": [
            "Collecting wandb\n",
            "\u001b[?25l  Downloading https://files.pythonhosted.org/packages/f6/28/4aefc543967839bdb4e139831b82004279f1c435cede2a9557ccf8369875/wandb-0.10.27-py2.py3-none-any.whl (2.1MB)\n",
            "\u001b[K     |████████████████████████████████| 2.1MB 5.7MB/s \n",
            "\u001b[?25hRequirement already satisfied: python-dateutil>=2.6.1 in /usr/local/lib/python3.7/dist-packages (from wandb) (2.8.1)\n",
            "Collecting configparser>=3.8.1\n",
            "  Downloading https://files.pythonhosted.org/packages/fd/01/ff260a18caaf4457eb028c96eeb405c4a230ca06c8ec9c1379f813caa52e/configparser-5.0.2-py3-none-any.whl\n",
            "Requirement already satisfied: protobuf>=3.12.0 in /usr/local/lib/python3.7/dist-packages (from wandb) (3.12.4)\n",
            "Collecting pathtools\n",
            "  Downloading https://files.pythonhosted.org/packages/e7/7f/470d6fcdf23f9f3518f6b0b76be9df16dcc8630ad409947f8be2eb0ed13a/pathtools-0.1.2.tar.gz\n",
            "Collecting shortuuid>=0.5.0\n",
            "  Downloading https://files.pythonhosted.org/packages/25/a6/2ecc1daa6a304e7f1b216f0896b26156b78e7c38e1211e9b798b4716c53d/shortuuid-1.0.1-py3-none-any.whl\n",
            "Requirement already satisfied: six>=1.13.0 in /usr/local/lib/python3.7/dist-packages (from wandb) (1.15.0)\n",
            "Collecting subprocess32>=3.5.3\n",
            "\u001b[?25l  Downloading https://files.pythonhosted.org/packages/32/c8/564be4d12629b912ea431f1a50eb8b3b9d00f1a0b1ceff17f266be190007/subprocess32-3.5.4.tar.gz (97kB)\n",
            "\u001b[K     |████████████████████████████████| 102kB 8.8MB/s \n",
            "\u001b[?25hRequirement already satisfied: Click>=7.0 in /usr/local/lib/python3.7/dist-packages (from wandb) (7.1.2)\n",
            "Requirement already satisfied: psutil>=5.0.0 in /usr/local/lib/python3.7/dist-packages (from wandb) (5.4.8)\n",
            "Collecting docker-pycreds>=0.4.0\n",
            "  Downloading https://files.pythonhosted.org/packages/f5/e8/f6bd1eee09314e7e6dee49cbe2c5e22314ccdb38db16c9fc72d2fa80d054/docker_pycreds-0.4.0-py2.py3-none-any.whl\n",
            "Requirement already satisfied: PyYAML in /usr/local/lib/python3.7/dist-packages (from wandb) (3.13)\n",
            "Requirement already satisfied: requests<3,>=2.0.0 in /usr/local/lib/python3.7/dist-packages (from wandb) (2.23.0)\n",
            "Collecting GitPython>=1.0.0\n",
            "\u001b[?25l  Downloading https://files.pythonhosted.org/packages/a6/99/98019716955ba243657daedd1de8f3a88ca1f5b75057c38e959db22fb87b/GitPython-3.1.14-py3-none-any.whl (159kB)\n",
            "\u001b[K     |████████████████████████████████| 163kB 17.1MB/s \n",
            "\u001b[?25hCollecting sentry-sdk>=0.4.0\n",
            "\u001b[?25l  Downloading https://files.pythonhosted.org/packages/f3/92/5a33be64990ba815364a8f2dd9e6f51de60d23dfddafb4f1fc5577d4dc64/sentry_sdk-1.0.0-py2.py3-none-any.whl (131kB)\n",
            "\u001b[K     |████████████████████████████████| 133kB 17.6MB/s \n",
            "\u001b[?25hRequirement already satisfied: promise<3,>=2.0 in /usr/local/lib/python3.7/dist-packages (from wandb) (2.3)\n",
            "Requirement already satisfied: setuptools in /usr/local/lib/python3.7/dist-packages (from protobuf>=3.12.0->wandb) (56.0.0)\n",
            "Requirement already satisfied: chardet<4,>=3.0.2 in /usr/local/lib/python3.7/dist-packages (from requests<3,>=2.0.0->wandb) (3.0.4)\n",
            "Requirement already satisfied: urllib3!=1.25.0,!=1.25.1,<1.26,>=1.21.1 in /usr/local/lib/python3.7/dist-packages (from requests<3,>=2.0.0->wandb) (1.24.3)\n",
            "Requirement already satisfied: idna<3,>=2.5 in /usr/local/lib/python3.7/dist-packages (from requests<3,>=2.0.0->wandb) (2.10)\n",
            "Requirement already satisfied: certifi>=2017.4.17 in /usr/local/lib/python3.7/dist-packages (from requests<3,>=2.0.0->wandb) (2020.12.5)\n",
            "Collecting gitdb<5,>=4.0.1\n",
            "\u001b[?25l  Downloading https://files.pythonhosted.org/packages/ea/e8/f414d1a4f0bbc668ed441f74f44c116d9816833a48bf81d22b697090dba8/gitdb-4.0.7-py3-none-any.whl (63kB)\n",
            "\u001b[K     |████████████████████████████████| 71kB 7.0MB/s \n",
            "\u001b[?25hCollecting smmap<5,>=3.0.1\n",
            "  Downloading https://files.pythonhosted.org/packages/68/ee/d540eb5e5996eb81c26ceffac6ee49041d473bc5125f2aa995cf51ec1cf1/smmap-4.0.0-py2.py3-none-any.whl\n",
            "Building wheels for collected packages: pathtools, subprocess32\n",
            "  Building wheel for pathtools (setup.py) ... \u001b[?25l\u001b[?25hdone\n",
            "  Created wheel for pathtools: filename=pathtools-0.1.2-cp37-none-any.whl size=8786 sha256=cd1b323b4d14308a6f2b8fa95c9b53bb05de186c768e0b148471319586c3b3e3\n",
            "  Stored in directory: /root/.cache/pip/wheels/0b/04/79/c3b0c3a0266a3cb4376da31e5bfe8bba0c489246968a68e843\n",
            "  Building wheel for subprocess32 (setup.py) ... \u001b[?25l\u001b[?25hdone\n",
            "  Created wheel for subprocess32: filename=subprocess32-3.5.4-cp37-none-any.whl size=6489 sha256=f82c721d2f6a45cbbc3f821912cbb3bec9fdf1d9b29463dd09aca35367c64d53\n",
            "  Stored in directory: /root/.cache/pip/wheels/68/39/1a/5e402bdfdf004af1786c8b853fd92f8c4a04f22aad179654d1\n",
            "Successfully built pathtools subprocess32\n",
            "Installing collected packages: configparser, pathtools, shortuuid, subprocess32, docker-pycreds, smmap, gitdb, GitPython, sentry-sdk, wandb\n",
            "Successfully installed GitPython-3.1.14 configparser-5.0.2 docker-pycreds-0.4.0 gitdb-4.0.7 pathtools-0.1.2 sentry-sdk-1.0.0 shortuuid-1.0.1 smmap-4.0.0 subprocess32-3.5.4 wandb-0.10.27\n"
          ],
          "name": "stdout"
        }
      ]
    },
    {
      "cell_type": "markdown",
      "metadata": {
        "id": "uel420l406Je"
      },
      "source": [
        "Realiza as importações principais"
      ]
    },
    {
      "cell_type": "code",
      "metadata": {
        "id": "IecVG1bT0yvh"
      },
      "source": [
        "\n",
        "import os\n",
        "import cv2\n",
        "import json\n",
        "import h5py\n",
        "import wandb\n",
        "import random\n",
        "import progressbar\n",
        "import numpy as np\n",
        "import matplotlib.pyplot as plt\n",
        "\n",
        "from tensorflow.keras.applications import imagenet_utils\n",
        "from keras.applications.inception_v3 import InceptionV3\n",
        "from keras.applications.inception_resnet_v2 import InceptionResNetV2 \n",
        "from keras.applications.resnet50 import ResNet50\n",
        "from keras.applications.vgg16 import VGG16\n",
        "from keras.applications.vgg19 import VGG19\n",
        "from keras.applications.mobilenet import MobileNet \n",
        "from keras.applications.densenet import DenseNet169 \n",
        "\n",
        "\n",
        "from tensorflow.keras.preprocessing.image import ImageDataGenerator\n",
        "from tensorflow.keras.preprocessing.image import img_to_array\n",
        "from tensorflow.keras.preprocessing.image import load_img\n",
        "from tensorflow.keras.utils import to_categorical\n",
        "\n",
        "\n",
        "from imutils import paths\n",
        "from sklearn.metrics import f1_score\n",
        "from sklearn.metrics import recall_score\n",
        "from sklearn.metrics import precision_score\n",
        "from sklearn.preprocessing import LabelEncoder\n",
        "\n",
        "from tensorflow.keras.layers import Input\n",
        "from tensorflow.keras.layers import BatchNormalization\n",
        "from tensorflow.keras.layers import Conv2D\n",
        "from tensorflow.keras.layers import MaxPooling2D\n",
        "from tensorflow.keras.layers import Activation\n",
        "from tensorflow.keras.layers import Flatten\n",
        "from tensorflow.keras.layers import Dropout\n",
        "from tensorflow.keras.layers import Dense\n",
        "from tensorflow.keras.layers import AveragePooling2D\n",
        "\n",
        "from tensorflow.keras.models import Model\n",
        "from tensorflow.keras.models import Sequential\n",
        "\n",
        "from tensorflow.keras.optimizers import RMSprop\n",
        "from tensorflow.keras.optimizers import SGD\n",
        "from tensorflow.keras.optimizers import Adam\n",
        "\n",
        "from keras.callbacks import ModelCheckpoint\n",
        "from wandb.keras import WandbCallback\n",
        "\n"
      ],
      "execution_count": null,
      "outputs": []
    },
    {
      "cell_type": "markdown",
      "metadata": {
        "id": "3zHcWzMnIvAF"
      },
      "source": [
        "Definindo os caminhos"
      ]
    },
    {
      "cell_type": "code",
      "metadata": {
        "id": "TtMq9K-GIxRa"
      },
      "source": [
        "# define the path to the output training, validation, and testing\n",
        "# HDF5 files\n",
        "TRAIN_HDF5 = \"raiox/hdf5/train.hdf5\"\n",
        "VAL_HDF5 = \"raiox/hdf5/val.hdf5\"\n",
        "TEST_HDF5 = \"raiox/hdf5/test.hdf5\"\n"
      ],
      "execution_count": null,
      "outputs": []
    },
    {
      "cell_type": "markdown",
      "metadata": {
        "id": "GoupgUZBI9qO"
      },
      "source": [
        "Montando o drive "
      ]
    },
    {
      "cell_type": "code",
      "metadata": {
        "colab": {
          "base_uri": "https://localhost:8080/"
        },
        "id": "q4GFlzCxJGbj",
        "outputId": "974f92b7-8bbe-485f-9715-6dedae1c00bc"
      },
      "source": [
        "from google.colab import drive\n",
        "drive.mount('/content/drive')"
      ],
      "execution_count": null,
      "outputs": [
        {
          "output_type": "stream",
          "text": [
            "Mounted at /content/drive\n"
          ],
          "name": "stdout"
        }
      ]
    },
    {
      "cell_type": "markdown",
      "metadata": {
        "id": "Vv9Rwrv_JI0x"
      },
      "source": [
        "Pegando os dados do drive "
      ]
    },
    {
      "cell_type": "code",
      "metadata": {
        "id": "jSizCLc2JK4Z"
      },
      "source": [
        "# only in case load data from drive\n",
        "!mkdir raiox\n",
        "!cp -r /content/drive/MyDrive/Projeto3/hdf5 raiox/hdf5\n",
        "!cp -r /content/drive/MyDrive/Projeto3/output raiox/output"
      ],
      "execution_count": null,
      "outputs": []
    },
    {
      "cell_type": "markdown",
      "metadata": {
        "id": "Vexjwdjb1HeA"
      },
      "source": [
        "Login no wandb"
      ]
    },
    {
      "cell_type": "code",
      "metadata": {
        "colab": {
          "base_uri": "https://localhost:8080/",
          "height": 68
        },
        "id": "X0cqSuYF1J9-",
        "outputId": "f83e9422-cbc0-42c6-d2e0-e81a4dbf516d"
      },
      "source": [
        "API_KEY = \"45ac723c1674f216bf7eb795bc3bc7cf591d5bd2\"\n",
        "wandb.login()"
      ],
      "execution_count": null,
      "outputs": [
        {
          "output_type": "display_data",
          "data": {
            "application/javascript": [
              "\n",
              "        window._wandbApiKey = new Promise((resolve, reject) => {\n",
              "            function loadScript(url) {\n",
              "            return new Promise(function(resolve, reject) {\n",
              "                let newScript = document.createElement(\"script\");\n",
              "                newScript.onerror = reject;\n",
              "                newScript.onload = resolve;\n",
              "                document.body.appendChild(newScript);\n",
              "                newScript.src = url;\n",
              "            });\n",
              "            }\n",
              "            loadScript(\"https://cdn.jsdelivr.net/npm/postmate/build/postmate.min.js\").then(() => {\n",
              "            const iframe = document.createElement('iframe')\n",
              "            iframe.style.cssText = \"width:0;height:0;border:none\"\n",
              "            document.body.appendChild(iframe)\n",
              "            const handshake = new Postmate({\n",
              "                container: iframe,\n",
              "                url: 'https://wandb.ai/authorize'\n",
              "            });\n",
              "            const timeout = setTimeout(() => reject(\"Couldn't auto authenticate\"), 5000)\n",
              "            handshake.then(function(child) {\n",
              "                child.on('authorize', data => {\n",
              "                    clearTimeout(timeout)\n",
              "                    resolve(data)\n",
              "                });\n",
              "            });\n",
              "            })\n",
              "        });\n",
              "    "
            ],
            "text/plain": [
              "<IPython.core.display.Javascript object>"
            ]
          },
          "metadata": {
            "tags": []
          }
        },
        {
          "output_type": "stream",
          "text": [
            "\u001b[34m\u001b[1mwandb\u001b[0m: Appending key for api.wandb.ai to your netrc file: /root/.netrc\n"
          ],
          "name": "stderr"
        },
        {
          "output_type": "execute_result",
          "data": {
            "text/plain": [
              "True"
            ]
          },
          "metadata": {
            "tags": []
          },
          "execution_count": 9
        }
      ]
    },
    {
      "cell_type": "markdown",
      "metadata": {
        "id": "HvAbwJG_3SO_"
      },
      "source": [
        "Configuração das variáveis globais"
      ]
    },
    {
      "cell_type": "code",
      "metadata": {
        "id": "4Fg2CsDJ3IK6"
      },
      "source": [
        "#Colocar\n",
        "\n",
        "BASE_MODELS = {\n",
        "  \"resnet\" : 0,\n",
        "  \"irv2\" : 1,\n",
        "  \"iv3\" : 2,\n",
        "  \"vgg16\" : 3,\n",
        "  \"vgg19\" : 4,\n",
        "  \"mobile\" : 5,\n",
        "  \"dense\" : 6\n",
        "}\n",
        "\n",
        "BASE_SHAPES = {\n",
        "    \"irv2\" : (299, 299, 3),\n",
        "    \"iv3\" : (299, 299, 3),\n",
        "    \"resnet\" : (224, 224, 3),\n",
        "    \"vgg16\" : (224, 224, 3),\n",
        "    \"vgg19\" : (224, 224, 3),\n",
        "    \"mobile\" : (224, 224, 3),\n",
        "    \"dense\" : (224, 224, 3)\n",
        "}\n",
        "\n",
        "OPTIMIZERS = {\n",
        "    \"Adam\" : {\n",
        "        \"learning_rate\" : 0.001,\n",
        "        \"beta_1\" : 0.9\n",
        "    },\n",
        "    \"SGD\" : {\n",
        "        \"learning_rate\" : 0.001,\n",
        "        \"momentum\" : 0.0\n",
        "    }\n",
        "}\n",
        "\n"
      ],
      "execution_count": null,
      "outputs": []
    },
    {
      "cell_type": "markdown",
      "metadata": {
        "id": "l0Fjc9tAL8iz"
      },
      "source": [
        "**Definição das classes de preprocessamento**:"
      ]
    },
    {
      "cell_type": "markdown",
      "metadata": {
        "id": "2h99xPxmNrNd"
      },
      "source": [
        "SimplePreprocessor:"
      ]
    },
    {
      "cell_type": "code",
      "metadata": {
        "id": "npN7XOjoNpMh"
      },
      "source": [
        "class SimplePreprocessor:\n",
        "\tdef __init__(self, width, height, inter=cv2.INTER_AREA):\n",
        "\t\t# store the target image width, height, and interpolation\n",
        "\t\t# method used when resizing\n",
        "\t\tself.width = width\n",
        "\t\tself.height = height\n",
        "\t\tself.inter = inter\n",
        "\n",
        "\tdef preprocess(self, image):\n",
        "\t\t# resize the image to a fixed size, ignoring the aspect\n",
        "\t\t# ratio\n",
        "\t\treturn cv2.resize(image, (self.width, self.height),\n",
        "\t\t\tinterpolation=self.inter)"
      ],
      "execution_count": null,
      "outputs": []
    },
    {
      "cell_type": "markdown",
      "metadata": {
        "id": "LMh-wQpiMXn3"
      },
      "source": [
        "Image to Array:\n"
      ]
    },
    {
      "cell_type": "code",
      "metadata": {
        "id": "e40q3e-KMfYf"
      },
      "source": [
        "class ImageToArrayPreprocessor:\n",
        "\tdef __init__(self, dataFormat=None):\n",
        "\t\t# store the image data format\n",
        "\t\tself.dataFormat = dataFormat\n",
        "\n",
        "\tdef preprocess(self, image):\n",
        "\t\t# apply the Keras utility function that correctly rearranges\n",
        "\t\t# the dimensions of the image\n",
        "\t\treturn img_to_array(image, data_format=self.dataFormat)"
      ],
      "execution_count": null,
      "outputs": []
    },
    {
      "cell_type": "markdown",
      "metadata": {
        "id": "8BGbm5YZMmxn"
      },
      "source": [
        "HDF5 dataset generators:"
      ]
    },
    {
      "cell_type": "code",
      "metadata": {
        "id": "j0WeOxa5MoeV"
      },
      "source": [
        "#colocar\n",
        "class HDF5DatasetGenerator:\n",
        "\tdef __init__(self, dbPath, batchSize, preprocessors=None, aug=None, binarize=True, classes=2):\n",
        "\t\t# store the batch size, preprocessors, and data augmentor,\n",
        "\t\t# whether or not the labels should be binarized, along with\n",
        "\t\t# the total number of classes\n",
        "\t\tself.batchSize = batchSize\n",
        "\t\tself.preprocessors = preprocessors\n",
        "\t\tself.aug = aug\n",
        "\t\tself.binarize = binarize\n",
        "\t\tself.classes = classes\n",
        "\n",
        "\t\t# open the HDF5 database for reading and determine the total\n",
        "\t\t# number of entries in the database\n",
        "\t\tself.db = h5py.File(dbPath, \"r\")\n",
        "\t\tself.numImages = self.db[\"labels\"].shape[0]\n",
        "\n",
        "\tdef generator(self, passes=np.inf):\n",
        "\t\t# initialize the epoch count\n",
        "\t\tepochs = 0\n",
        "\n",
        "\t\t# keep looping infinitely -- the model will stop once we have\n",
        "\t\t# reach the desired number of epochs\n",
        "\t\twhile epochs < passes:\n",
        "\t\t\t# loop over the HDF5 dataset\n",
        "\t\t\tfor i in np.arange(0, self.numImages, self.batchSize):\n",
        "\t\t\t\t# extract the images and labels from the HDF dataset\n",
        "\t\t\t\timages = self.db[\"images\"][i: i + self.batchSize]\n",
        "\t\t\t\tlabels = self.db[\"labels\"][i: i + self.batchSize]\n",
        "\n",
        "\t\t\t\t# check to see if the labels should be binarized\n",
        "\t\t\t\tif self.binarize:\n",
        "\t\t\t\t\tlabels = to_categorical(labels,\n",
        "\t\t\t\t\t\tself.classes)\n",
        "\n",
        "\t\t\t\t# check to see if our preprocessors are not None\n",
        "\t\t\t\tif self.preprocessors is not None:\n",
        "\t\t\t\t\t# initialize the list of processed images\n",
        "\t\t\t\t\tprocImages = []\n",
        "\n",
        "\t\t\t\t\t# loop over the images\n",
        "\t\t\t\t\tfor image in images:\n",
        "\t\t\t\t\t\t# loop over the preprocessors and apply each\n",
        "\t\t\t\t\t\t# to the image\n",
        "\t\t\t\t\t\tfor p in self.preprocessors:\n",
        "\t\t\t\t\t\t\timage = p.preprocess(image)\n",
        "\n",
        "\t\t\t\t\t\t# update the list of processed images\n",
        "\t\t\t\t\t\tprocImages.append(image)\n",
        "\n",
        "\t\t\t\t\t# update the images array to be the processed\n",
        "\t\t\t\t\t# images\n",
        "\t\t\t\t\timages = np.array(procImages)\n",
        "\n",
        "\t\t\t\t# if the data augmenator exists, apply it\n",
        "\t\t\t\tif self.aug is not None:\n",
        "\t\t\t\t\t(images, labels) = next(self.aug.flow(images,\n",
        "\t\t\t\t\t\tlabels, batch_size=self.batchSize))\n",
        "\n",
        "\t\t\t\t# yield a tuple of images and labels\n",
        "\t\t\t\tyield (images, labels)\n",
        "\n",
        "\t\t\t# increment the total number of epochs\n",
        "\t\t\tepochs += 1\n",
        "\n",
        "\tdef close(self):\n",
        "\t\t# close the database\n",
        "\t\tself.db.close()"
      ],
      "execution_count": null,
      "outputs": []
    },
    {
      "cell_type": "markdown",
      "metadata": {
        "id": "6G2uxhC-30AX"
      },
      "source": [
        "Função para criar arquitetura desejada com o camada fully connected"
      ]
    },
    {
      "cell_type": "code",
      "metadata": {
        "id": "ss1tDo-73w6u"
      },
      "source": [
        "#colocar\n",
        "def load_base_model(base_model_name, fc_size, num_classes, dropout):\n",
        "  \"\"\" Load pre-trained base network, add a global average pooling layer and two\n",
        "  fully connected layers for fine-tuning, and freeze all base layers \"\"\"\n",
        "\n",
        "  base_model = BASE_MODELS[base_model_name]\n",
        "\n",
        "  if (base_model == 0):\n",
        "    base = ResNet50(weights='imagenet', include_top=False, input_tensor=Input(BASE_SHAPES[base_model_name]))\n",
        "  elif (base_model == 1):\n",
        "    base = InceptionResNetV2(weights='imagenet', include_top=False, input_tensor=Input(BASE_SHAPES[base_model_name]))\n",
        "  elif (base_model == 2):\n",
        "    base = InceptionV3(weights='imagenet', include_top=False, input_tensor=Input(BASE_SHAPES[base_model_name]))\n",
        "  elif (base_model == 3):\n",
        "    base = VGG16(weights='imagenet', include_top=False, input_tensor=Input(BASE_SHAPES[base_model_name]))\n",
        "  elif (base_model == 4):\n",
        "    base = VGG19(weights='imagenet', include_top=False, input_tensor=Input(BASE_SHAPES[base_model_name]))\n",
        "  elif (base_model == 5):\n",
        "    base = MobileNet(weights='imagenet', include_top=False, input_tensor=Input(BASE_SHAPES[base_model_name]))\n",
        "  elif (base_model == 6):\n",
        "    base = DenseNet169(weights='imagenet', include_top=False, input_tensor=Input(BASE_SHAPES[base_model_name]))\n",
        "  else:\n",
        "     base = ResNet50(weights='imagenet', include_top=False, input_tensor=Input(BASE_SHAPES[base_model_name]))\n",
        "\n",
        "  head_model = base.output\n",
        "  head_model = Flatten(name=\"flatten\")(head_model)\n",
        "  head_model = Dense(fc_size, activation=\"relu\")(head_model)\n",
        "  head_model = Dropout(dropout)(head_model)\n",
        "  head_model = Dense(num_classes, activation=\"softmax\")(head_model)\n",
        "\n",
        "  model = Model(inputs=base.input, outputs=head_model)\n",
        "  \n",
        "  # freeze all base layers\n",
        "  for layer in base.layers:\n",
        "    layer.trainable = False\n",
        "\n",
        "  # optimizer\n",
        "  opt = RMSprop(lr=0.001)\n",
        "  \n",
        "  model.compile(optimizer=opt, loss= \"categorical_crossentropy\", metrics=['accuracy'])\n",
        "  print(\"[INFO] compiling model...\")\n",
        "\n",
        "\n",
        "  return model"
      ],
      "execution_count": null,
      "outputs": []
    },
    {
      "cell_type": "markdown",
      "metadata": {
        "id": "D02ph6vmT3Q8"
      },
      "source": [
        "Pretreinamento com parametros congelados"
      ]
    },
    {
      "cell_type": "code",
      "metadata": {
        "id": "U9VljHbNT7xq"
      },
      "source": [
        "#colocar\n",
        "def training_model(args):\n",
        "  \"\"\" Load a pre-trained model and pre-train it for some epochs (args.pretrain_epochs).\n",
        "  Then freeze learned layers up to args.freeze_layer, and continue training the remaining\n",
        "  layers for the rest of the epochs (args.epochs) \"\"\"\n",
        "\n",
        "  #id = wandb.util.generate_id()\n",
        "\n",
        "  #wandb.init(config = args, project= args[\"project_name\"], name = args[\"run_name\"], id=id, resume=\"allow\", group = id)\n",
        "  wandb.init(config = args, project= args[\"project_name\"], name = args[\"run_name\"], job_type=\"train\")\n",
        "  callbacks = [WandbCallback()]\n",
        "\n",
        "  # construct the training image generator for data augmentation\n",
        "  aug =  ImageDataGenerator(rotation_range=15, fill_mode=\"nearest\")\n",
        " \n",
        "\n",
        "  # initialize the image preprocessors\n",
        "  #sp = SimplePreprocessor(args[\"img_dim\"], args[\"img_dim\"])\n",
        "  iap = ImageToArrayPreprocessor()\n",
        "\n",
        "  # initialize the training and validation dataset generators\n",
        "  trainGen = HDF5DatasetGenerator(TRAIN_HDF5, args[\"batch_size\"], aug= aug, preprocessors=[iap], classes= args[\"num_classes\"])\n",
        "  valGen = HDF5DatasetGenerator(VAL_HDF5, args[\"batch_size\"], aug= aug, preprocessors=[iap], classes= args[\"num_classes\"])\n",
        "  testGen = HDF5DatasetGenerator(TEST_HDF5, 30, preprocessors=[iap], classes= args[\"num_classes\"])\n",
        "\n",
        "  # load the model with parameters freeze\n",
        "  model = load_base_model(args[\"architecture\"], args[\"fc_size\"], args[\"num_classes\"],  args[\"dropout\"])\n",
        " \n",
        "  history = model.fit(trainGen.generator(),\n",
        "          steps_per_epoch=trainGen.numImages // args[\"batch_size\"],\n",
        "          validation_data=valGen.generator(),\n",
        "          validation_steps=valGen.numImages // args[\"batch_size\"],\n",
        "          epochs=args[\"pretrain_epochs\"],\n",
        "          max_queue_size=10,\n",
        "          callbacks = callbacks,\n",
        "          verbose=1)\n",
        "\n",
        "  # unfreezing the layer of base model\n",
        "  for layer in model.layers[args[\"freeze_layers\"]:]:\n",
        "    layer.trainable = True\n",
        "\n",
        "  #Optimizer\n",
        "  if (args[\"optimizer\"] == \"SGD\"):\n",
        "    opt = SGD(learning_rate = OPTIMIZERS[\"SGD\"][\"learning_rate\"], momentum = OPTIMIZERS[\"SGD\"][\"momentum\"])\n",
        "  else:\n",
        "    opt = Adam(learning_rate = OPTIMIZERS[\"Adam\"][\"learning_rate\"], beta_1 = OPTIMIZERS[\"Adam\"][\"beta_1\"])\n",
        "\n",
        "\n",
        "  print(\"[INFO] re-compiling model...\")\n",
        "  model.compile(loss=args[\"loss\"], optimizer=opt, metrics=[\"accuracy\"])\n",
        "\n",
        "  # train the model again, this time fine-tuning *both* the final set\n",
        "  # of CONV layers along with our set of FC layers\n",
        "  print(\"[INFO] fine-tuning model...\")\n",
        "  # train the network\n",
        "  history = model.fit(trainGen.generator(),\n",
        "          steps_per_epoch=trainGen.numImages // args[\"batch_size\"],\n",
        "          validation_data=valGen.generator(),\n",
        "          validation_steps=valGen.numImages // args[\"batch_size\"],\n",
        "          epochs= args[\"epochs\"],\n",
        "          max_queue_size=10,\n",
        "          callbacks = callbacks,\n",
        "          verbose=1)\n",
        "  \n",
        "  #log performance network on test data\n",
        "  print(\"[INFO] evaluating network...\")\n",
        "  classNames = [\"COVID\", \"Normal\"]\n",
        "  predictions = model.predict(testGen.generator(1) ,verbose=1)\n",
        "  testY = np.array(testGen.db[\"labels\"])\n",
        "  pred = predictions.argmax(axis=1)\n",
        "\n",
        "  #calculating metric\n",
        "  f1 = f1_score(y_true= testY, y_pred = pred)\n",
        "  rec = recall_score(y_true = testY, y_pred = pred)\n",
        "  precision = precision_score(y_true = testY, y_pred = pred)\n",
        "  \n",
        "  #export metrics to wandb\n",
        "  print(\"[INFO] saving logs on wandb...\")\n",
        "  wandb.log({'f1': f1})\n",
        "  wandb.log({'recall': rec})\n",
        "  wandb.log({'precision': precision})\n",
        "\n",
        "  # precision- recall curve\n",
        "  wandb.log({\"pr\" : wandb.plot.pr_curve(y_true = testY, y_probas = predictions, labels = classNames)})\n",
        "  # confusion matrix\n",
        "  wandb.log({\"conf_mat\" : wandb.plot.confusion_matrix(probs=None, preds=pred, y_true= testY , class_names= classNames)})\n",
        "  \n",
        "  # save the model to a file\n",
        "  print(\"[INFO] serializing model in wandb...\")\n",
        "\n",
        "  name_model = \"model_\" + args[\"run_name\"] + \".h5\"\n",
        "  wandb.save(name_model)\n",
        "  \n",
        "  # close the HDF5 datasets\n",
        "  trainGen.close()\n",
        "  valGen.close()\n",
        "\n",
        "  return model"
      ],
      "execution_count": null,
      "outputs": []
    },
    {
      "cell_type": "markdown",
      "metadata": {
        "id": "bz5FmtzbL1QF"
      },
      "source": [
        "Função responsável por rodar o experimento"
      ]
    },
    {
      "cell_type": "code",
      "metadata": {
        "id": "Yr_prEcsL48D"
      },
      "source": [
        "MODELS_PARAMS = {\n",
        "  \"resnet\" : 25636712,\n",
        "  \"irv2\" : 55873736,\n",
        "  \"iv3\" : 23851784,\n",
        "  \"vgg16\" : 138357544,\n",
        "  \"vgg19\" : 143667240,\n",
        "  \"mobile\" : 4253864,\n",
        "  \"dense\" : 14307880\n",
        "}\n",
        "default_test = {\n",
        "    \"fc_size\"     : 256,\n",
        "    \"batch_size\" : 128 ,\n",
        "    \"epochs\" : 5,\n",
        "    \"pretrain_epochs\" : 2,\n",
        "    \"optimizer\" : \"SGD\",\n",
        "    \"learning_rate\" : 0.001,\n",
        "    \"beta_1\" : 0.9,\n",
        "    \"momentum\" : 0.0,\n",
        "    \"dropout\" : 0.5,   \n",
        "    \"img_dim\" : 224,\n",
        "    \"num_classes\" : 2,\n",
        "    \"n_train\" :6480,\n",
        "    \"n_valid\" : 720,\n",
        "    \"image_normalize\" : False,\n",
        "    \"loss\"     : \"categorical_crossentropy\"\n",
        "}\n",
        "\n",
        "args = {\n",
        "    \"project_name\" : \"xrays_covid19\",\n",
        "    \"run_name\" : \"vgg19_v2\", \n",
        "    \"architecture\" : \"vgg19\",\n",
        "    \"num_params\" : 143667240,\n",
        "    \"freeze_layers\" : 12, \n",
        "    \"batch_size\" : 128 ,\n",
        "    \"fc_size\"     : 256,\n",
        "    \"pretrain_epochs\" : 2,\n",
        "    \"epochs\" : 5,\n",
        "    \"optimizer\" : \"SGD\",\n",
        "    \"learning_rate\" : 0.001,\n",
        "    \"beta_1\" : 0.9,\n",
        "    \"momentum\" : 0.0,\n",
        "    \"dropout\" : 0.5,  \n",
        "    \"img_dim\" : 224,\n",
        "    \"num_classes\" : 2,\n",
        "    \"n_train\" :6480,\n",
        "    \"n_valid\" : 720,\n",
        "    \"image_normalize\" : False,\n",
        "    \"loss\" : \"categorical_crossentropy\"  \n",
        "}\n",
        "\n",
        "\n",
        "#modelo = training_model(args)\n"
      ],
      "execution_count": null,
      "outputs": []
    },
    {
      "cell_type": "code",
      "metadata": {
        "id": "2tj6FBTXH1MQ"
      },
      "source": [
        "version = \"v4\"\n",
        "\n",
        "testes = [{\n",
        "    \"project_name\" : \"xrays_covid19_reborn\",\n",
        "    \"run_name\" : \"vgg19_{}\".format(version), \n",
        "    \"architecture\" : \"vgg19\",\n",
        "    \"num_params\" : 143667240,\n",
        "    \"freeze_layers\" : 7, \n",
        "    \"batch_size\" : 64 ,\n",
        "    \"fc_size\"     : 256,\n",
        "    \"pretrain_epochs\" : 2,\n",
        "    \"epochs\" : 7,\n",
        "    \"optimizer\" : \"SGD\",\n",
        "    \"learning_rate\" : 0.001,\n",
        "    \"beta_1\" : 0.9,\n",
        "    \"momentum\" : 0.0,\n",
        "    \"dropout\" : 0.5,  \n",
        "    \"img_dim\" : 224,\n",
        "    \"num_classes\" : 2,\n",
        "    \"n_train\" :6480,\n",
        "    \"n_valid\" : 720,\n",
        "    \"image_normalize\" : False,\n",
        "    \"loss\" : \"categorical_crossentropy\"  \n",
        "  }, {\n",
        "    \"project_name\" : \"xrays_covid19_reborn\",\n",
        "    \"run_name\" : \"vgg16_{}\".format(version), \n",
        "    \"architecture\" : \"vgg16\",\n",
        "    \"num_params\" : 138357544,\n",
        "    \"freeze_layers\" : 7, \n",
        "    \"batch_size\" : 128 ,\n",
        "    \"fc_size\"     : 256,\n",
        "    \"pretrain_epochs\" : 2,\n",
        "    \"epochs\" : 5,\n",
        "    \"optimizer\" : \"SGD\",\n",
        "    \"learning_rate\" : 0.0001,\n",
        "    \"beta_1\" : 0.9,\n",
        "    \"momentum\" : 0.0,\n",
        "    \"dropout\" : 0.5,  \n",
        "    \"img_dim\" : 224,\n",
        "    \"num_classes\" : 2,\n",
        "    \"n_train\" :6480,\n",
        "    \"n_valid\" : 720,\n",
        "    \"image_normalize\" : False,\n",
        "    \"loss\" : \"categorical_crossentropy\"  \n",
        "  }, {\n",
        "    \"project_name\" : \"xrays_covid19_reborn\",\n",
        "    \"run_name\" : \"resnet_{}\".format(version), \n",
        "    \"architecture\" : \"resnet\",\n",
        "    \"num_params\" : 25636712,\n",
        "    \"freeze_layers\" : 96, \n",
        "    \"batch_size\" : 64 ,\n",
        "    \"fc_size\"     : 256,\n",
        "    \"pretrain_epochs\" : 2,\n",
        "    \"epochs\" : 5,\n",
        "    \"optimizer\" : \"SGD\",\n",
        "    \"learning_rate\" : 0.001,\n",
        "    \"beta_1\" : 0.9,\n",
        "    \"momentum\" : 0.0,\n",
        "    \"dropout\" : 0.5,  \n",
        "    \"img_dim\" : 224,\n",
        "    \"num_classes\" : 2,\n",
        "    \"n_train\" :6480,\n",
        "    \"n_valid\" : 720,\n",
        "    \"image_normalize\" : False,\n",
        "    \"loss\" : \"categorical_crossentropy\"  \n",
        "  }, {\n",
        "    \"project_name\" : \"xrays_covid19_reborn\",\n",
        "    \"run_name\" : \"dense_{}\".format(version), \n",
        "    \"architecture\" : \"dense\",\n",
        "    \"num_params\" : 14307880,\n",
        "    \"freeze_layers\" : 500, \n",
        "    \"batch_size\" : 64 ,\n",
        "    \"fc_size\"     : 256,\n",
        "    \"pretrain_epochs\" : 2,\n",
        "    \"epochs\" : 5,\n",
        "    \"optimizer\" : \"Adam\",\n",
        "    \"learning_rate\" : 0.001,\n",
        "    \"beta_1\" : 0.9,\n",
        "    \"momentum\" : 0.0,\n",
        "    \"dropout\" : 0.5,  \n",
        "    \"img_dim\" : 224,\n",
        "    \"num_classes\" : 2,\n",
        "    \"n_train\" :6480,\n",
        "    \"n_valid\" : 720,\n",
        "    \"image_normalize\" : False,\n",
        "    \"loss\" : \"categorical_crossentropy\"  \n",
        "  }, {\n",
        "    \"project_name\" : \"xrays_covid19_reborn\",\n",
        "    \"run_name\" : \"mobile_{}\".format(version), \n",
        "    \"architecture\" : \"mobile\",\n",
        "    \"num_params\" : 4253864,\n",
        "    \"freeze_layers\" : 58, \n",
        "    \"batch_size\" : 64 ,\n",
        "    \"fc_size\"     : 256,\n",
        "    \"pretrain_epochs\" : 2,\n",
        "    \"epochs\" : 5,\n",
        "    \"optimizer\" : \"Adam\",\n",
        "    \"learning_rate\" : 0.0001,\n",
        "    \"beta_1\" : 0.9,\n",
        "    \"momentum\" : 0.0,\n",
        "    \"dropout\" : 0.5,  \n",
        "    \"img_dim\" : 224,\n",
        "    \"num_classes\" : 2,\n",
        "    \"n_train\" :6480,\n",
        "    \"n_valid\" : 720,\n",
        "    \"image_normalize\" : False,\n",
        "    \"loss\" : \"categorical_crossentropy\"  \n",
        "  }\n",
        "          \n",
        "]\n"
      ],
      "execution_count": null,
      "outputs": []
    },
    {
      "cell_type": "code",
      "metadata": {
        "id": "G2H6vBd2FQdM",
        "colab": {
          "base_uri": "https://localhost:8080/",
          "height": 1000,
          "referenced_widgets": [
            "fb8adfcbe9b74c94b13cf26dfc17aa1f",
            "7563195c77f541498a9bc6d95c2efc7e",
            "33a676525c804efa9806edefd529aa7b",
            "45958f0899ae4190b3218663785ab26c",
            "ae016447994e4c2a993c8debdd84c9f4",
            "cc96575d819a47c5b08c0232537bf2a6",
            "d7e06b572f7142448bb53b493a831950",
            "8f21d73e13f54e778d83ebdab2215e7b",
            "7079e1d1431f4430a2cef424093b2082",
            "17e011282f17460ea014e08101137cc6",
            "8c0684d0f2444952852331e1b57075db",
            "7a918888f8c14a978b8e810cfbfbaaef",
            "3e19c224d8d647b292c9077a878b9f84",
            "4e20cc35c8954dd2aa228916e1af9332",
            "0af72f3bdf08407dae2472381ad90db9",
            "941eed92b92d483b9848e23f92493063",
            "bc56060220bf4c6486e2aca56080cf4f",
            "73a16555733e42299d15e27aeba8c6e1",
            "bbbb5cc171524648869b02d1817e2e9c",
            "c2432a53914d47ae801610c5643d5e55",
            "f12ab97f66d346f2a5d3136caf79d12e",
            "429168d429be4e82850e0c1f0cb409cc",
            "194e8108beb442b5b2edc4d87fe87b85",
            "d336e56c5b1f46ce9e2a4ed2df6498c3",
            "3c4b3ac702274f9b949a37b46b2a5713",
            "a9264b9434a241fcb15f75381aa7fcdb",
            "6c472a1a67354d13a2092b118487ce0f",
            "f986dbeb1ac042c892ca96e8a1ec2f39",
            "b0c30219dfc24ad188facac4d744b88e",
            "ba55bfc1cd564d9fa01f5d6e16edcf12",
            "71fbc626ce254f5fa10bdd23a7d18e54",
            "1126a6d83c6e4fa99b296ca71482f913",
            "5107364800084861b1232a3145fd4a45",
            "ff5e729a1b0a4ae5aa95e76c759cf119",
            "d92bc85caf4c4125ae67f4478f71191a",
            "f6d86ceac9734ccca9744f311b43a978",
            "b9a7114d663349f6af9e129f3d574ddf",
            "2b478318d55846ac8c6540878842f0a9",
            "38274a2618d84acda06028318c4d22a8",
            "9356944fe5b84c49800f8398ddfbbd2c"
          ]
        },
        "outputId": "dc194878-2cef-4f59-ca2f-870899fbe006"
      },
      "source": [
        "\n",
        "#colocar\n",
        "for teste in testes:\n",
        "  modelo = training_model(teste)\n",
        "  print(\"[INFO] finishing the train of model {}...\".format(teste[\"run_name\"]))\n",
        "  wandb.run.finish()\n"
      ],
      "execution_count": null,
      "outputs": [
        {
          "output_type": "display_data",
          "data": {
            "text/html": [
              "\n",
              "                Tracking run with wandb version 0.10.27<br/>\n",
              "                Syncing run <strong style=\"color:#cdcd00\">vgg19_v4</strong> to <a href=\"https://wandb.ai\" target=\"_blank\">Weights & Biases</a> <a href=\"https://docs.wandb.com/integrations/jupyter.html\" target=\"_blank\">(Documentation)</a>.<br/>\n",
              "                Project page: <a href=\"https://wandb.ai/thiagosouto/xrays_covid19_reborn\" target=\"_blank\">https://wandb.ai/thiagosouto/xrays_covid19_reborn</a><br/>\n",
              "                Run page: <a href=\"https://wandb.ai/thiagosouto/xrays_covid19_reborn/runs/3hy8h7r3\" target=\"_blank\">https://wandb.ai/thiagosouto/xrays_covid19_reborn/runs/3hy8h7r3</a><br/>\n",
              "                Run data is saved locally in <code>/content/wandb/run-20210427_233240-3hy8h7r3</code><br/><br/>\n",
              "            "
            ],
            "text/plain": [
              "<IPython.core.display.HTML object>"
            ]
          },
          "metadata": {
            "tags": []
          }
        },
        {
          "output_type": "stream",
          "text": [
            "[INFO] compiling model...\n",
            "Epoch 1/2\n",
            "90/90 [==============================] - 176s 2s/step - loss: 35.8106 - accuracy: 0.7685 - val_loss: 0.2004 - val_accuracy: 0.9134\n",
            "Epoch 2/2\n",
            "90/90 [==============================] - 175s 2s/step - loss: 0.6086 - accuracy: 0.8801 - val_loss: 0.2295 - val_accuracy: 0.9332\n",
            "[INFO] re-compiling model...\n",
            "[INFO] fine-tuning model...\n",
            "Epoch 1/7\n",
            "90/90 [==============================] - 176s 2s/step - loss: 0.2471 - accuracy: 0.9161 - val_loss: 0.1594 - val_accuracy: 0.9489\n",
            "Epoch 2/7\n",
            "90/90 [==============================] - 174s 2s/step - loss: 0.1269 - accuracy: 0.9517 - val_loss: 0.1468 - val_accuracy: 0.9503\n",
            "Epoch 3/7\n",
            "90/90 [==============================] - 174s 2s/step - loss: 0.1069 - accuracy: 0.9628 - val_loss: 0.1224 - val_accuracy: 0.9616\n",
            "Epoch 4/7\n",
            "90/90 [==============================] - 174s 2s/step - loss: 0.0841 - accuracy: 0.9620 - val_loss: 0.1819 - val_accuracy: 0.9460\n",
            "Epoch 5/7\n",
            "90/90 [==============================] - 174s 2s/step - loss: 0.0917 - accuracy: 0.9647 - val_loss: 0.0942 - val_accuracy: 0.9659\n",
            "Epoch 6/7\n",
            "90/90 [==============================] - 175s 2s/step - loss: 0.0573 - accuracy: 0.9786 - val_loss: 0.0860 - val_accuracy: 0.9773\n",
            "Epoch 7/7\n",
            "90/90 [==============================] - 177s 2s/step - loss: 0.0673 - accuracy: 0.9725 - val_loss: 0.0924 - val_accuracy: 0.9744\n",
            "[INFO] evaluating network...\n",
            "24/24 [==============================] - 8s 309ms/step\n",
            "[INFO] saving logs on wandb...\n",
            "[INFO] serializing model in wandb...\n",
            "[INFO] finishing the train of model vgg19_v4...\n"
          ],
          "name": "stdout"
        },
        {
          "output_type": "display_data",
          "data": {
            "text/html": [
              "<br/>Waiting for W&B process to finish, PID 4729<br/>Program ended successfully."
            ],
            "text/plain": [
              "<IPython.core.display.HTML object>"
            ]
          },
          "metadata": {
            "tags": []
          }
        },
        {
          "output_type": "display_data",
          "data": {
            "application/vnd.jupyter.widget-view+json": {
              "model_id": "fb8adfcbe9b74c94b13cf26dfc17aa1f",
              "version_minor": 0,
              "version_major": 2
            },
            "text/plain": [
              "VBox(children=(Label(value=' 125.50MB of 125.50MB uploaded (0.00MB deduped)\\r'), FloatProgress(value=1.0, max=…"
            ]
          },
          "metadata": {
            "tags": []
          }
        },
        {
          "output_type": "display_data",
          "data": {
            "text/html": [
              "Find user logs for this run at: <code>/content/wandb/run-20210427_233240-3hy8h7r3/logs/debug.log</code>"
            ],
            "text/plain": [
              "<IPython.core.display.HTML object>"
            ]
          },
          "metadata": {
            "tags": []
          }
        },
        {
          "output_type": "display_data",
          "data": {
            "text/html": [
              "Find internal logs for this run at: <code>/content/wandb/run-20210427_233240-3hy8h7r3/logs/debug-internal.log</code>"
            ],
            "text/plain": [
              "<IPython.core.display.HTML object>"
            ]
          },
          "metadata": {
            "tags": []
          }
        },
        {
          "output_type": "display_data",
          "data": {
            "text/html": [
              "<h3>Run summary:</h3><br/><style>\n",
              "    table.wandb td:nth-child(1) { padding: 0 10px; text-align: right }\n",
              "    </style><table class=\"wandb\">\n",
              "<tr><td>epoch</td><td>6</td></tr><tr><td>loss</td><td>0.06485</td></tr><tr><td>accuracy</td><td>0.97274</td></tr><tr><td>val_loss</td><td>0.09243</td></tr><tr><td>val_accuracy</td><td>0.97443</td></tr><tr><td>_runtime</td><td>1591</td></tr><tr><td>_timestamp</td><td>1619567951</td></tr><tr><td>_step</td><td>13</td></tr><tr><td>best_val_loss</td><td>0.08596</td></tr><tr><td>best_epoch</td><td>5</td></tr><tr><td>f1</td><td>0.96639</td></tr><tr><td>recall</td><td>0.95833</td></tr><tr><td>precision</td><td>0.97458</td></tr></table>"
            ],
            "text/plain": [
              "<IPython.core.display.HTML object>"
            ]
          },
          "metadata": {
            "tags": []
          }
        },
        {
          "output_type": "display_data",
          "data": {
            "text/html": [
              "<h3>Run history:</h3><br/><style>\n",
              "    table.wandb td:nth-child(1) { padding: 0 10px; text-align: right }\n",
              "    </style><table class=\"wandb\">\n",
              "<tr><td>epoch</td><td>▁▂▁▂▃▅▆▇█</td></tr><tr><td>loss</td><td>█▁▁▁▁▁▁▁▁</td></tr><tr><td>accuracy</td><td>▁▄▆▇█████</td></tr><tr><td>val_loss</td><td>▇█▅▄▃▆▁▁▁</td></tr><tr><td>val_accuracy</td><td>▁▃▅▅▆▅▇██</td></tr><tr><td>_runtime</td><td>▁▂▃▄▄▅▆▇██████</td></tr><tr><td>_timestamp</td><td>▁▂▃▄▄▅▆▇██████</td></tr><tr><td>_step</td><td>▁▂▂▃▃▄▄▅▅▆▆▇▇█</td></tr><tr><td>f1</td><td>▁</td></tr><tr><td>recall</td><td>▁</td></tr><tr><td>precision</td><td>▁</td></tr></table><br/>"
            ],
            "text/plain": [
              "<IPython.core.display.HTML object>"
            ]
          },
          "metadata": {
            "tags": []
          }
        },
        {
          "output_type": "display_data",
          "data": {
            "text/html": [
              "Synced 5 W&B file(s), 3 media file(s), 2 artifact file(s) and 1 other file(s)"
            ],
            "text/plain": [
              "<IPython.core.display.HTML object>"
            ]
          },
          "metadata": {
            "tags": []
          }
        },
        {
          "output_type": "display_data",
          "data": {
            "text/html": [
              "\n",
              "                    <br/>Synced <strong style=\"color:#cdcd00\">vgg19_v4</strong>: <a href=\"https://wandb.ai/thiagosouto/xrays_covid19_reborn/runs/3hy8h7r3\" target=\"_blank\">https://wandb.ai/thiagosouto/xrays_covid19_reborn/runs/3hy8h7r3</a><br/>\n",
              "                "
            ],
            "text/plain": [
              "<IPython.core.display.HTML object>"
            ]
          },
          "metadata": {
            "tags": []
          }
        },
        {
          "output_type": "display_data",
          "data": {
            "text/html": [
              "\n",
              "                Tracking run with wandb version 0.10.27<br/>\n",
              "                Syncing run <strong style=\"color:#cdcd00\">vgg16_v4</strong> to <a href=\"https://wandb.ai\" target=\"_blank\">Weights & Biases</a> <a href=\"https://docs.wandb.com/integrations/jupyter.html\" target=\"_blank\">(Documentation)</a>.<br/>\n",
              "                Project page: <a href=\"https://wandb.ai/thiagosouto/xrays_covid19_reborn\" target=\"_blank\">https://wandb.ai/thiagosouto/xrays_covid19_reborn</a><br/>\n",
              "                Run page: <a href=\"https://wandb.ai/thiagosouto/xrays_covid19_reborn/runs/xb8l8cdk\" target=\"_blank\">https://wandb.ai/thiagosouto/xrays_covid19_reborn/runs/xb8l8cdk</a><br/>\n",
              "                Run data is saved locally in <code>/content/wandb/run-20210427_235916-xb8l8cdk</code><br/><br/>\n",
              "            "
            ],
            "text/plain": [
              "<IPython.core.display.HTML object>"
            ]
          },
          "metadata": {
            "tags": []
          }
        },
        {
          "output_type": "stream",
          "text": [
            "[INFO] compiling model...\n",
            "Epoch 1/2\n",
            "45/45 [==============================] - 146s 3s/step - loss: 70.5143 - accuracy: 0.7141 - val_loss: 0.3670 - val_accuracy: 0.8047\n",
            "Epoch 2/2\n",
            "45/45 [==============================] - 144s 3s/step - loss: 0.9054 - accuracy: 0.8271 - val_loss: 0.2149 - val_accuracy: 0.9234\n",
            "[INFO] re-compiling model...\n",
            "[INFO] fine-tuning model...\n",
            "Epoch 1/5\n",
            "45/45 [==============================] - 145s 3s/step - loss: 0.2533 - accuracy: 0.9236 - val_loss: 0.1516 - val_accuracy: 0.9453\n",
            "Epoch 2/5\n",
            "45/45 [==============================] - 144s 3s/step - loss: 0.2189 - accuracy: 0.9314 - val_loss: 0.1428 - val_accuracy: 0.9516\n",
            "Epoch 3/5\n",
            "45/45 [==============================] - 143s 3s/step - loss: 0.1871 - accuracy: 0.9436 - val_loss: 0.1686 - val_accuracy: 0.9438\n",
            "Epoch 4/5\n",
            "45/45 [==============================] - 145s 3s/step - loss: 0.1871 - accuracy: 0.9462 - val_loss: 0.1827 - val_accuracy: 0.9203\n",
            "Epoch 5/5\n",
            "45/45 [==============================] - 143s 3s/step - loss: 0.1797 - accuracy: 0.9424 - val_loss: 0.1334 - val_accuracy: 0.9500\n",
            "[INFO] evaluating network...\n",
            "24/24 [==============================] - 8s 305ms/step\n",
            "[INFO] saving logs on wandb...\n",
            "[INFO] serializing model in wandb...\n",
            "[INFO] finishing the train of model vgg16_v4...\n"
          ],
          "name": "stdout"
        },
        {
          "output_type": "display_data",
          "data": {
            "text/html": [
              "<br/>Waiting for W&B process to finish, PID 5167<br/>Program ended successfully."
            ],
            "text/plain": [
              "<IPython.core.display.HTML object>"
            ]
          },
          "metadata": {
            "tags": []
          }
        },
        {
          "output_type": "display_data",
          "data": {
            "application/vnd.jupyter.widget-view+json": {
              "model_id": "7079e1d1431f4430a2cef424093b2082",
              "version_minor": 0,
              "version_major": 2
            },
            "text/plain": [
              "VBox(children=(Label(value=' 105.23MB of 105.23MB uploaded (0.00MB deduped)\\r'), FloatProgress(value=1.0, max=…"
            ]
          },
          "metadata": {
            "tags": []
          }
        },
        {
          "output_type": "display_data",
          "data": {
            "text/html": [
              "Find user logs for this run at: <code>/content/wandb/run-20210427_235916-xb8l8cdk/logs/debug.log</code>"
            ],
            "text/plain": [
              "<IPython.core.display.HTML object>"
            ]
          },
          "metadata": {
            "tags": []
          }
        },
        {
          "output_type": "display_data",
          "data": {
            "text/html": [
              "Find internal logs for this run at: <code>/content/wandb/run-20210427_235916-xb8l8cdk/logs/debug-internal.log</code>"
            ],
            "text/plain": [
              "<IPython.core.display.HTML object>"
            ]
          },
          "metadata": {
            "tags": []
          }
        },
        {
          "output_type": "display_data",
          "data": {
            "text/html": [
              "<h3>Run summary:</h3><br/><style>\n",
              "    table.wandb td:nth-child(1) { padding: 0 10px; text-align: right }\n",
              "    </style><table class=\"wandb\">\n",
              "<tr><td>epoch</td><td>4</td></tr><tr><td>loss</td><td>0.17126</td></tr><tr><td>accuracy</td><td>0.94878</td></tr><tr><td>val_loss</td><td>0.13338</td></tr><tr><td>val_accuracy</td><td>0.95</td></tr><tr><td>_runtime</td><td>1029</td></tr><tr><td>_timestamp</td><td>1619568985</td></tr><tr><td>_step</td><td>11</td></tr><tr><td>best_val_loss</td><td>0.13338</td></tr><tr><td>best_epoch</td><td>4</td></tr><tr><td>f1</td><td>0.96533</td></tr><tr><td>recall</td><td>0.96667</td></tr><tr><td>precision</td><td>0.96399</td></tr></table>"
            ],
            "text/plain": [
              "<IPython.core.display.HTML object>"
            ]
          },
          "metadata": {
            "tags": []
          }
        },
        {
          "output_type": "display_data",
          "data": {
            "text/html": [
              "<h3>Run history:</h3><br/><style>\n",
              "    table.wandb td:nth-child(1) { padding: 0 10px; text-align: right }\n",
              "    </style><table class=\"wandb\">\n",
              "<tr><td>epoch</td><td>▁▃▁▃▅▆█</td></tr><tr><td>loss</td><td>█▁▁▁▁▁▁</td></tr><tr><td>accuracy</td><td>▁▄▇▇███</td></tr><tr><td>val_loss</td><td>█▃▂▁▂▂▁</td></tr><tr><td>val_accuracy</td><td>▁▇███▇█</td></tr><tr><td>_runtime</td><td>▁▂▃▄▆▇██████</td></tr><tr><td>_timestamp</td><td>▁▂▃▄▆▇██████</td></tr><tr><td>_step</td><td>▁▂▂▃▄▄▅▅▆▇▇█</td></tr><tr><td>f1</td><td>▁</td></tr><tr><td>recall</td><td>▁</td></tr><tr><td>precision</td><td>▁</td></tr></table><br/>"
            ],
            "text/plain": [
              "<IPython.core.display.HTML object>"
            ]
          },
          "metadata": {
            "tags": []
          }
        },
        {
          "output_type": "display_data",
          "data": {
            "text/html": [
              "Synced 5 W&B file(s), 3 media file(s), 2 artifact file(s) and 1 other file(s)"
            ],
            "text/plain": [
              "<IPython.core.display.HTML object>"
            ]
          },
          "metadata": {
            "tags": []
          }
        },
        {
          "output_type": "display_data",
          "data": {
            "text/html": [
              "\n",
              "                    <br/>Synced <strong style=\"color:#cdcd00\">vgg16_v4</strong>: <a href=\"https://wandb.ai/thiagosouto/xrays_covid19_reborn/runs/xb8l8cdk\" target=\"_blank\">https://wandb.ai/thiagosouto/xrays_covid19_reborn/runs/xb8l8cdk</a><br/>\n",
              "                "
            ],
            "text/plain": [
              "<IPython.core.display.HTML object>"
            ]
          },
          "metadata": {
            "tags": []
          }
        },
        {
          "output_type": "display_data",
          "data": {
            "text/html": [
              "\n",
              "                Tracking run with wandb version 0.10.27<br/>\n",
              "                Syncing run <strong style=\"color:#cdcd00\">resnet_v4</strong> to <a href=\"https://wandb.ai\" target=\"_blank\">Weights & Biases</a> <a href=\"https://docs.wandb.com/integrations/jupyter.html\" target=\"_blank\">(Documentation)</a>.<br/>\n",
              "                Project page: <a href=\"https://wandb.ai/thiagosouto/xrays_covid19_reborn\" target=\"_blank\">https://wandb.ai/thiagosouto/xrays_covid19_reborn</a><br/>\n",
              "                Run page: <a href=\"https://wandb.ai/thiagosouto/xrays_covid19_reborn/runs/246gasqd\" target=\"_blank\">https://wandb.ai/thiagosouto/xrays_covid19_reborn/runs/246gasqd</a><br/>\n",
              "                Run data is saved locally in <code>/content/wandb/run-20210428_001629-246gasqd</code><br/><br/>\n",
              "            "
            ],
            "text/plain": [
              "<IPython.core.display.HTML object>"
            ]
          },
          "metadata": {
            "tags": []
          }
        },
        {
          "output_type": "stream",
          "text": [
            "[INFO] compiling model...\n",
            "Epoch 1/2\n",
            "90/90 [==============================] - 180s 2s/step - loss: 32.6751 - accuracy: 0.7671 - val_loss: 0.1991 - val_accuracy: 0.9332\n",
            "Epoch 2/2\n",
            "90/90 [==============================] - 176s 2s/step - loss: 0.7002 - accuracy: 0.8689 - val_loss: 0.1515 - val_accuracy: 0.9446\n",
            "[INFO] re-compiling model...\n",
            "[INFO] fine-tuning model...\n",
            "Epoch 1/5\n",
            "90/90 [==============================] - 182s 2s/step - loss: 0.4261 - accuracy: 0.8999 - val_loss: 0.1351 - val_accuracy: 0.9602\n",
            "Epoch 2/5\n",
            "90/90 [==============================] - 176s 2s/step - loss: 0.2096 - accuracy: 0.9269 - val_loss: 0.1401 - val_accuracy: 0.9432\n",
            "Epoch 3/5\n",
            "90/90 [==============================] - 175s 2s/step - loss: 0.1637 - accuracy: 0.9333 - val_loss: 0.1315 - val_accuracy: 0.9503\n",
            "Epoch 4/5\n",
            "90/90 [==============================] - 177s 2s/step - loss: 0.1412 - accuracy: 0.9450 - val_loss: 0.1333 - val_accuracy: 0.9560\n",
            "Epoch 5/5\n",
            "90/90 [==============================] - 175s 2s/step - loss: 0.1684 - accuracy: 0.9331 - val_loss: 0.1326 - val_accuracy: 0.9560\n",
            "[INFO] evaluating network...\n",
            "24/24 [==============================] - 8s 309ms/step\n",
            "[INFO] saving logs on wandb...\n",
            "[INFO] serializing model in wandb...\n",
            "[INFO] finishing the train of model resnet_v4...\n"
          ],
          "name": "stdout"
        },
        {
          "output_type": "display_data",
          "data": {
            "text/html": [
              "<br/>Waiting for W&B process to finish, PID 5467<br/>Program ended successfully."
            ],
            "text/plain": [
              "<IPython.core.display.HTML object>"
            ]
          },
          "metadata": {
            "tags": []
          }
        },
        {
          "output_type": "display_data",
          "data": {
            "application/vnd.jupyter.widget-view+json": {
              "model_id": "bc56060220bf4c6486e2aca56080cf4f",
              "version_minor": 0,
              "version_major": 2
            },
            "text/plain": [
              "VBox(children=(Label(value=' 27.88MB of 27.88MB uploaded (0.00MB deduped)\\r'), FloatProgress(value=1.0, max=1.…"
            ]
          },
          "metadata": {
            "tags": []
          }
        },
        {
          "output_type": "display_data",
          "data": {
            "text/html": [
              "Find user logs for this run at: <code>/content/wandb/run-20210428_001629-246gasqd/logs/debug.log</code>"
            ],
            "text/plain": [
              "<IPython.core.display.HTML object>"
            ]
          },
          "metadata": {
            "tags": []
          }
        },
        {
          "output_type": "display_data",
          "data": {
            "text/html": [
              "Find internal logs for this run at: <code>/content/wandb/run-20210428_001629-246gasqd/logs/debug-internal.log</code>"
            ],
            "text/plain": [
              "<IPython.core.display.HTML object>"
            ]
          },
          "metadata": {
            "tags": []
          }
        },
        {
          "output_type": "display_data",
          "data": {
            "text/html": [
              "<h3>Run summary:</h3><br/><style>\n",
              "    table.wandb td:nth-child(1) { padding: 0 10px; text-align: right }\n",
              "    </style><table class=\"wandb\">\n",
              "<tr><td>epoch</td><td>4</td></tr><tr><td>loss</td><td>0.1383</td></tr><tr><td>accuracy</td><td>0.94392</td></tr><tr><td>val_loss</td><td>0.13258</td></tr><tr><td>val_accuracy</td><td>0.95597</td></tr><tr><td>_runtime</td><td>1264</td></tr><tr><td>_timestamp</td><td>1619570254</td></tr><tr><td>_step</td><td>11</td></tr><tr><td>best_val_loss</td><td>0.13155</td></tr><tr><td>best_epoch</td><td>2</td></tr><tr><td>f1</td><td>0.96978</td></tr><tr><td>recall</td><td>0.98056</td></tr><tr><td>precision</td><td>0.95924</td></tr></table>"
            ],
            "text/plain": [
              "<IPython.core.display.HTML object>"
            ]
          },
          "metadata": {
            "tags": []
          }
        },
        {
          "output_type": "display_data",
          "data": {
            "text/html": [
              "<h3>Run history:</h3><br/><style>\n",
              "    table.wandb td:nth-child(1) { padding: 0 10px; text-align: right }\n",
              "    </style><table class=\"wandb\">\n",
              "<tr><td>epoch</td><td>▁▃▁▃▅▆█</td></tr><tr><td>loss</td><td>█▁▁▁▁▁▁</td></tr><tr><td>accuracy</td><td>▁▄▆▇███</td></tr><tr><td>val_loss</td><td>█▃▁▂▁▁▁</td></tr><tr><td>val_accuracy</td><td>▁▄█▄▅▇▇</td></tr><tr><td>_runtime</td><td>▁▂▃▅▆▇██████</td></tr><tr><td>_timestamp</td><td>▁▂▃▅▆▇██████</td></tr><tr><td>_step</td><td>▁▂▂▃▄▄▅▅▆▇▇█</td></tr><tr><td>f1</td><td>▁</td></tr><tr><td>recall</td><td>▁</td></tr><tr><td>precision</td><td>▁</td></tr></table><br/>"
            ],
            "text/plain": [
              "<IPython.core.display.HTML object>"
            ]
          },
          "metadata": {
            "tags": []
          }
        },
        {
          "output_type": "display_data",
          "data": {
            "text/html": [
              "Synced 5 W&B file(s), 3 media file(s), 2 artifact file(s) and 1 other file(s)"
            ],
            "text/plain": [
              "<IPython.core.display.HTML object>"
            ]
          },
          "metadata": {
            "tags": []
          }
        },
        {
          "output_type": "display_data",
          "data": {
            "text/html": [
              "\n",
              "                    <br/>Synced <strong style=\"color:#cdcd00\">resnet_v4</strong>: <a href=\"https://wandb.ai/thiagosouto/xrays_covid19_reborn/runs/246gasqd\" target=\"_blank\">https://wandb.ai/thiagosouto/xrays_covid19_reborn/runs/246gasqd</a><br/>\n",
              "                "
            ],
            "text/plain": [
              "<IPython.core.display.HTML object>"
            ]
          },
          "metadata": {
            "tags": []
          }
        },
        {
          "output_type": "display_data",
          "data": {
            "text/html": [
              "\n",
              "                Tracking run with wandb version 0.10.27<br/>\n",
              "                Syncing run <strong style=\"color:#cdcd00\">dense_v4</strong> to <a href=\"https://wandb.ai\" target=\"_blank\">Weights & Biases</a> <a href=\"https://docs.wandb.com/integrations/jupyter.html\" target=\"_blank\">(Documentation)</a>.<br/>\n",
              "                Project page: <a href=\"https://wandb.ai/thiagosouto/xrays_covid19_reborn\" target=\"_blank\">https://wandb.ai/thiagosouto/xrays_covid19_reborn</a><br/>\n",
              "                Run page: <a href=\"https://wandb.ai/thiagosouto/xrays_covid19_reborn/runs/18t5at7u\" target=\"_blank\">https://wandb.ai/thiagosouto/xrays_covid19_reborn/runs/18t5at7u</a><br/>\n",
              "                Run data is saved locally in <code>/content/wandb/run-20210428_003740-18t5at7u</code><br/><br/>\n",
              "            "
            ],
            "text/plain": [
              "<IPython.core.display.HTML object>"
            ]
          },
          "metadata": {
            "tags": []
          }
        },
        {
          "output_type": "stream",
          "text": [
            "[INFO] compiling model...\n",
            "Epoch 1/2\n",
            "90/90 [==============================] - 188s 2s/step - loss: 99.6316 - accuracy: 0.6569 - val_loss: 0.5874 - val_accuracy: 0.7628\n",
            "Epoch 2/2\n",
            "90/90 [==============================] - 175s 2s/step - loss: 2.2442 - accuracy: 0.7063 - val_loss: 0.3892 - val_accuracy: 0.8082\n",
            "[INFO] re-compiling model...\n",
            "[INFO] fine-tuning model...\n",
            "Epoch 1/5\n",
            "90/90 [==============================] - 189s 2s/step - loss: 0.6382 - accuracy: 0.7858 - val_loss: 0.3329 - val_accuracy: 0.8977\n",
            "Epoch 2/5\n",
            "90/90 [==============================] - 175s 2s/step - loss: 0.2476 - accuracy: 0.9023 - val_loss: 0.2312 - val_accuracy: 0.9162\n",
            "Epoch 3/5\n",
            "90/90 [==============================] - 175s 2s/step - loss: 0.1811 - accuracy: 0.9313 - val_loss: 0.2439 - val_accuracy: 0.9034\n",
            "Epoch 4/5\n",
            "90/90 [==============================] - 175s 2s/step - loss: 0.1342 - accuracy: 0.9468 - val_loss: 0.4785 - val_accuracy: 0.8551\n",
            "Epoch 5/5\n",
            "90/90 [==============================] - 175s 2s/step - loss: 0.1190 - accuracy: 0.9552 - val_loss: 0.1310 - val_accuracy: 0.9503\n",
            "[INFO] evaluating network...\n",
            "24/24 [==============================] - 10s 302ms/step\n",
            "[INFO] saving logs on wandb...\n",
            "[INFO] serializing model in wandb...\n",
            "[INFO] finishing the train of model dense_v4...\n"
          ],
          "name": "stdout"
        },
        {
          "output_type": "display_data",
          "data": {
            "text/html": [
              "<br/>Waiting for W&B process to finish, PID 5818<br/>Program ended successfully."
            ],
            "text/plain": [
              "<IPython.core.display.HTML object>"
            ]
          },
          "metadata": {
            "tags": []
          }
        },
        {
          "output_type": "display_data",
          "data": {
            "application/vnd.jupyter.widget-view+json": {
              "model_id": "3c4b3ac702274f9b949a37b46b2a5713",
              "version_minor": 0,
              "version_major": 2
            },
            "text/plain": [
              "VBox(children=(Label(value=' 36.94MB of 36.94MB uploaded (0.00MB deduped)\\r'), FloatProgress(value=1.0, max=1.…"
            ]
          },
          "metadata": {
            "tags": []
          }
        },
        {
          "output_type": "display_data",
          "data": {
            "text/html": [
              "Find user logs for this run at: <code>/content/wandb/run-20210428_003740-18t5at7u/logs/debug.log</code>"
            ],
            "text/plain": [
              "<IPython.core.display.HTML object>"
            ]
          },
          "metadata": {
            "tags": []
          }
        },
        {
          "output_type": "display_data",
          "data": {
            "text/html": [
              "Find internal logs for this run at: <code>/content/wandb/run-20210428_003740-18t5at7u/logs/debug-internal.log</code>"
            ],
            "text/plain": [
              "<IPython.core.display.HTML object>"
            ]
          },
          "metadata": {
            "tags": []
          }
        },
        {
          "output_type": "display_data",
          "data": {
            "text/html": [
              "<h3>Run summary:</h3><br/><style>\n",
              "    table.wandb td:nth-child(1) { padding: 0 10px; text-align: right }\n",
              "    </style><table class=\"wandb\">\n",
              "<tr><td>epoch</td><td>4</td></tr><tr><td>loss</td><td>0.10688</td></tr><tr><td>accuracy</td><td>0.96128</td></tr><tr><td>val_loss</td><td>0.13103</td></tr><tr><td>val_accuracy</td><td>0.95028</td></tr><tr><td>_runtime</td><td>1283</td></tr><tr><td>_timestamp</td><td>1619571543</td></tr><tr><td>_step</td><td>11</td></tr><tr><td>best_val_loss</td><td>0.13103</td></tr><tr><td>best_epoch</td><td>4</td></tr><tr><td>f1</td><td>0.92765</td></tr><tr><td>recall</td><td>0.99722</td></tr><tr><td>precision</td><td>0.86715</td></tr></table>"
            ],
            "text/plain": [
              "<IPython.core.display.HTML object>"
            ]
          },
          "metadata": {
            "tags": []
          }
        },
        {
          "output_type": "display_data",
          "data": {
            "text/html": [
              "<h3>Run history:</h3><br/><style>\n",
              "    table.wandb td:nth-child(1) { padding: 0 10px; text-align: right }\n",
              "    </style><table class=\"wandb\">\n",
              "<tr><td>epoch</td><td>▁▃▁▃▅▆█</td></tr><tr><td>loss</td><td>█▁▁▁▁▁▁</td></tr><tr><td>accuracy</td><td>▁▂▅▇▇██</td></tr><tr><td>val_loss</td><td>█▅▄▃▃▆▁</td></tr><tr><td>val_accuracy</td><td>▁▃▆▇▆▄█</td></tr><tr><td>_runtime</td><td>▁▂▃▅▆▇██████</td></tr><tr><td>_timestamp</td><td>▁▂▃▅▆▇██████</td></tr><tr><td>_step</td><td>▁▂▂▃▄▄▅▅▆▇▇█</td></tr><tr><td>f1</td><td>▁</td></tr><tr><td>recall</td><td>▁</td></tr><tr><td>precision</td><td>▁</td></tr></table><br/>"
            ],
            "text/plain": [
              "<IPython.core.display.HTML object>"
            ]
          },
          "metadata": {
            "tags": []
          }
        },
        {
          "output_type": "display_data",
          "data": {
            "text/html": [
              "Synced 5 W&B file(s), 3 media file(s), 2 artifact file(s) and 1 other file(s)"
            ],
            "text/plain": [
              "<IPython.core.display.HTML object>"
            ]
          },
          "metadata": {
            "tags": []
          }
        },
        {
          "output_type": "display_data",
          "data": {
            "text/html": [
              "\n",
              "                    <br/>Synced <strong style=\"color:#cdcd00\">dense_v4</strong>: <a href=\"https://wandb.ai/thiagosouto/xrays_covid19_reborn/runs/18t5at7u\" target=\"_blank\">https://wandb.ai/thiagosouto/xrays_covid19_reborn/runs/18t5at7u</a><br/>\n",
              "                "
            ],
            "text/plain": [
              "<IPython.core.display.HTML object>"
            ]
          },
          "metadata": {
            "tags": []
          }
        },
        {
          "output_type": "display_data",
          "data": {
            "text/html": [
              "\n",
              "                Tracking run with wandb version 0.10.27<br/>\n",
              "                Syncing run <strong style=\"color:#cdcd00\">mobile_v4</strong> to <a href=\"https://wandb.ai\" target=\"_blank\">Weights & Biases</a> <a href=\"https://docs.wandb.com/integrations/jupyter.html\" target=\"_blank\">(Documentation)</a>.<br/>\n",
              "                Project page: <a href=\"https://wandb.ai/thiagosouto/xrays_covid19_reborn\" target=\"_blank\">https://wandb.ai/thiagosouto/xrays_covid19_reborn</a><br/>\n",
              "                Run page: <a href=\"https://wandb.ai/thiagosouto/xrays_covid19_reborn/runs/3cl1vhks\" target=\"_blank\">https://wandb.ai/thiagosouto/xrays_covid19_reborn/runs/3cl1vhks</a><br/>\n",
              "                Run data is saved locally in <code>/content/wandb/run-20210428_005911-3cl1vhks</code><br/><br/>\n",
              "            "
            ],
            "text/plain": [
              "<IPython.core.display.HTML object>"
            ]
          },
          "metadata": {
            "tags": []
          }
        },
        {
          "output_type": "stream",
          "text": [
            "WARNING:tensorflow:`input_shape` is undefined or non-square, or `rows` is not in [128, 160, 192, 224]. Weights for input shape (224, 224) will be loaded as the default.\n",
            "[INFO] compiling model...\n",
            "Epoch 1/2\n",
            "90/90 [==============================] - 178s 2s/step - loss: 28.5772 - accuracy: 0.6645 - val_loss: 0.7813 - val_accuracy: 0.7358\n",
            "Epoch 2/2\n",
            "90/90 [==============================] - 175s 2s/step - loss: 1.0915 - accuracy: 0.7277 - val_loss: 0.8748 - val_accuracy: 0.7585\n",
            "[INFO] re-compiling model...\n",
            "[INFO] fine-tuning model...\n",
            "Epoch 1/5\n",
            "90/90 [==============================] - 178s 2s/step - loss: 1.2524 - accuracy: 0.7164 - val_loss: 0.5684 - val_accuracy: 0.8281\n",
            "Epoch 2/5\n",
            "90/90 [==============================] - 176s 2s/step - loss: 0.3856 - accuracy: 0.8376 - val_loss: 1.0228 - val_accuracy: 0.6861\n",
            "Epoch 3/5\n",
            "90/90 [==============================] - 176s 2s/step - loss: 0.3449 - accuracy: 0.8628 - val_loss: 0.4196 - val_accuracy: 0.8026\n",
            "Epoch 4/5\n",
            "90/90 [==============================] - 176s 2s/step - loss: 0.2958 - accuracy: 0.8999 - val_loss: 0.2732 - val_accuracy: 0.8423\n",
            "Epoch 5/5\n",
            "90/90 [==============================] - 175s 2s/step - loss: 0.2832 - accuracy: 0.9049 - val_loss: 0.3989 - val_accuracy: 0.9119\n",
            "[INFO] evaluating network...\n",
            "24/24 [==============================] - 8s 312ms/step\n",
            "[INFO] saving logs on wandb...\n",
            "[INFO] serializing model in wandb...\n",
            "[INFO] finishing the train of model mobile_v4...\n"
          ],
          "name": "stdout"
        },
        {
          "output_type": "display_data",
          "data": {
            "text/html": [
              "<br/>Waiting for W&B process to finish, PID 6181<br/>Program ended successfully."
            ],
            "text/plain": [
              "<IPython.core.display.HTML object>"
            ]
          },
          "metadata": {
            "tags": []
          }
        },
        {
          "output_type": "display_data",
          "data": {
            "application/vnd.jupyter.widget-view+json": {
              "model_id": "5107364800084861b1232a3145fd4a45",
              "version_minor": 0,
              "version_major": 2
            },
            "text/plain": [
              "VBox(children=(Label(value=' 177.93MB of 177.93MB uploaded (0.00MB deduped)\\r'), FloatProgress(value=1.0, max=…"
            ]
          },
          "metadata": {
            "tags": []
          }
        },
        {
          "output_type": "display_data",
          "data": {
            "text/html": [
              "Find user logs for this run at: <code>/content/wandb/run-20210428_005911-3cl1vhks/logs/debug.log</code>"
            ],
            "text/plain": [
              "<IPython.core.display.HTML object>"
            ]
          },
          "metadata": {
            "tags": []
          }
        },
        {
          "output_type": "display_data",
          "data": {
            "text/html": [
              "Find internal logs for this run at: <code>/content/wandb/run-20210428_005911-3cl1vhks/logs/debug-internal.log</code>"
            ],
            "text/plain": [
              "<IPython.core.display.HTML object>"
            ]
          },
          "metadata": {
            "tags": []
          }
        },
        {
          "output_type": "display_data",
          "data": {
            "text/html": [
              "<h3>Run summary:</h3><br/><style>\n",
              "    table.wandb td:nth-child(1) { padding: 0 10px; text-align: right }\n",
              "    </style><table class=\"wandb\">\n",
              "<tr><td>epoch</td><td>4</td></tr><tr><td>loss</td><td>0.26472</td></tr><tr><td>accuracy</td><td>0.91233</td></tr><tr><td>val_loss</td><td>0.39893</td></tr><tr><td>val_accuracy</td><td>0.91193</td></tr><tr><td>_runtime</td><td>1253</td></tr><tr><td>_timestamp</td><td>1619572804</td></tr><tr><td>_step</td><td>11</td></tr><tr><td>best_val_loss</td><td>0.27315</td></tr><tr><td>best_epoch</td><td>3</td></tr><tr><td>f1</td><td>0.89796</td></tr><tr><td>recall</td><td>0.85556</td></tr><tr><td>precision</td><td>0.94479</td></tr></table>"
            ],
            "text/plain": [
              "<IPython.core.display.HTML object>"
            ]
          },
          "metadata": {
            "tags": []
          }
        },
        {
          "output_type": "display_data",
          "data": {
            "text/html": [
              "<h3>Run history:</h3><br/><style>\n",
              "    table.wandb td:nth-child(1) { padding: 0 10px; text-align: right }\n",
              "    </style><table class=\"wandb\">\n",
              "<tr><td>epoch</td><td>▁▃▁▃▅▆█</td></tr><tr><td>loss</td><td>█▁▁▁▁▁▁</td></tr><tr><td>accuracy</td><td>▁▃▃▆▇▇█</td></tr><tr><td>val_loss</td><td>▆▇▄█▂▁▂</td></tr><tr><td>val_accuracy</td><td>▃▃▅▁▅▆█</td></tr><tr><td>_runtime</td><td>▁▂▃▄▆▇██████</td></tr><tr><td>_timestamp</td><td>▁▂▃▄▆▇██████</td></tr><tr><td>_step</td><td>▁▂▂▃▄▄▅▅▆▇▇█</td></tr><tr><td>f1</td><td>▁</td></tr><tr><td>recall</td><td>▁</td></tr><tr><td>precision</td><td>▁</td></tr></table><br/>"
            ],
            "text/plain": [
              "<IPython.core.display.HTML object>"
            ]
          },
          "metadata": {
            "tags": []
          }
        },
        {
          "output_type": "display_data",
          "data": {
            "text/html": [
              "Synced 5 W&B file(s), 3 media file(s), 2 artifact file(s) and 1 other file(s)"
            ],
            "text/plain": [
              "<IPython.core.display.HTML object>"
            ]
          },
          "metadata": {
            "tags": []
          }
        },
        {
          "output_type": "display_data",
          "data": {
            "text/html": [
              "\n",
              "                    <br/>Synced <strong style=\"color:#cdcd00\">mobile_v4</strong>: <a href=\"https://wandb.ai/thiagosouto/xrays_covid19_reborn/runs/3cl1vhks\" target=\"_blank\">https://wandb.ai/thiagosouto/xrays_covid19_reborn/runs/3cl1vhks</a><br/>\n",
              "                "
            ],
            "text/plain": [
              "<IPython.core.display.HTML object>"
            ]
          },
          "metadata": {
            "tags": []
          }
        }
      ]
    },
    {
      "cell_type": "code",
      "metadata": {
        "id": "A3BYfm-pxFje",
        "colab": {
          "base_uri": "https://localhost:8080/",
          "height": 1000,
          "referenced_widgets": [
            "f4235468edf7411294dc27097da720a9",
            "90f00fc48f334a0680867a4f41b88a6e",
            "2a9b8e2bca634fac8e324a2853198f0a",
            "1fa42c5890a248faaa2867dcdbac08d8",
            "fbd5856fa9fe4ed1ab2c90499f6b760f",
            "283d186ed9504387a559ff16621a25c6",
            "034cc296b8f84d1c995fd5e57ce5340c",
            "5d2579e8fcf54dd9888ee7b0c8219fc8"
          ]
        },
        "outputId": "d7cef048-fb81-46b2-82e7-5d34671427e1"
      },
      "source": [
        "modelo = training_model(testes[4])\n",
        "wandb.run.finish()"
      ],
      "execution_count": null,
      "outputs": [
        {
          "output_type": "stream",
          "text": [
            "\u001b[34m\u001b[1mwandb\u001b[0m: Currently logged in as: \u001b[33mthiagosouto\u001b[0m (use `wandb login --relogin` to force relogin)\n"
          ],
          "name": "stderr"
        },
        {
          "output_type": "display_data",
          "data": {
            "text/html": [
              "\n",
              "                Tracking run with wandb version 0.10.27<br/>\n",
              "                Syncing run <strong style=\"color:#cdcd00\">mobile_v1</strong> to <a href=\"https://wandb.ai\" target=\"_blank\">Weights & Biases</a> <a href=\"https://docs.wandb.com/integrations/jupyter.html\" target=\"_blank\">(Documentation)</a>.<br/>\n",
              "                Project page: <a href=\"https://wandb.ai/thiagosouto/xrays_covid19_reborn\" target=\"_blank\">https://wandb.ai/thiagosouto/xrays_covid19_reborn</a><br/>\n",
              "                Run page: <a href=\"https://wandb.ai/thiagosouto/xrays_covid19_reborn/runs/1rvfml6g\" target=\"_blank\">https://wandb.ai/thiagosouto/xrays_covid19_reborn/runs/1rvfml6g</a><br/>\n",
              "                Run data is saved locally in <code>/content/wandb/run-20210427_185825-1rvfml6g</code><br/><br/>\n",
              "            "
            ],
            "text/plain": [
              "<IPython.core.display.HTML object>"
            ]
          },
          "metadata": {
            "tags": []
          }
        },
        {
          "output_type": "stream",
          "text": [
            "WARNING:tensorflow:`input_shape` is undefined or non-square, or `rows` is not in [128, 160, 192, 224]. Weights for input shape (224, 224) will be loaded as the default.\n",
            "Downloading data from https://storage.googleapis.com/tensorflow/keras-applications/mobilenet/mobilenet_1_0_224_tf_no_top.h5\n",
            "17227776/17225924 [==============================] - 0s 0us/step\n",
            "[INFO] compiling model...\n",
            "Epoch 1/2\n",
            "45/45 [==============================] - 151s 3s/step - loss: 30.6873 - accuracy: 0.6534 - val_loss: 0.4091 - val_accuracy: 0.7922\n",
            "Epoch 2/2\n",
            "45/45 [==============================] - 133s 3s/step - loss: 1.7987 - accuracy: 0.7156 - val_loss: 0.3974 - val_accuracy: 0.8141\n",
            "[INFO] re-compiling model...\n",
            "[INFO] fine-tuning model...\n",
            "Epoch 1/5\n",
            "45/45 [==============================] - 136s 3s/step - loss: 0.6806 - accuracy: 0.7083 - val_loss: 0.4297 - val_accuracy: 0.8156\n",
            "Epoch 2/5\n",
            "45/45 [==============================] - 133s 3s/step - loss: 0.4863 - accuracy: 0.7647 - val_loss: 0.4329 - val_accuracy: 0.8141\n",
            "Epoch 3/5\n",
            "45/45 [==============================] - 132s 3s/step - loss: 0.4648 - accuracy: 0.7632 - val_loss: 0.4109 - val_accuracy: 0.8375\n",
            "Epoch 4/5\n",
            "45/45 [==============================] - 133s 3s/step - loss: 0.4452 - accuracy: 0.7838 - val_loss: 0.3718 - val_accuracy: 0.8516\n",
            "Epoch 5/5\n",
            "45/45 [==============================] - 133s 3s/step - loss: 0.4323 - accuracy: 0.7926 - val_loss: 0.3813 - val_accuracy: 0.8469\n",
            "[INFO] evaluating network...\n",
            "24/24 [==============================] - 7s 275ms/step\n",
            "[INFO] saving logs on wandb...\n",
            "[INFO] serializing model in wandb...\n"
          ],
          "name": "stdout"
        },
        {
          "output_type": "display_data",
          "data": {
            "text/html": [
              "<br/>Waiting for W&B process to finish, PID 426<br/>Program ended successfully."
            ],
            "text/plain": [
              "<IPython.core.display.HTML object>"
            ]
          },
          "metadata": {
            "tags": []
          }
        },
        {
          "output_type": "display_data",
          "data": {
            "application/vnd.jupyter.widget-view+json": {
              "model_id": "f4235468edf7411294dc27097da720a9",
              "version_minor": 0,
              "version_major": 2
            },
            "text/plain": [
              "VBox(children=(Label(value=' 110.59MB of 110.59MB uploaded (0.00MB deduped)\\r'), FloatProgress(value=1.0, max=…"
            ]
          },
          "metadata": {
            "tags": []
          }
        },
        {
          "output_type": "display_data",
          "data": {
            "text/html": [
              "Find user logs for this run at: <code>/content/wandb/run-20210427_185825-1rvfml6g/logs/debug.log</code>"
            ],
            "text/plain": [
              "<IPython.core.display.HTML object>"
            ]
          },
          "metadata": {
            "tags": []
          }
        },
        {
          "output_type": "display_data",
          "data": {
            "text/html": [
              "Find internal logs for this run at: <code>/content/wandb/run-20210427_185825-1rvfml6g/logs/debug-internal.log</code>"
            ],
            "text/plain": [
              "<IPython.core.display.HTML object>"
            ]
          },
          "metadata": {
            "tags": []
          }
        },
        {
          "output_type": "display_data",
          "data": {
            "text/html": [
              "<h3>Run summary:</h3><br/><style>\n",
              "    table.wandb td:nth-child(1) { padding: 0 10px; text-align: right }\n",
              "    </style><table class=\"wandb\">\n",
              "<tr><td>epoch</td><td>4</td></tr><tr><td>loss</td><td>0.42052</td></tr><tr><td>accuracy</td><td>0.79601</td></tr><tr><td>val_loss</td><td>0.38134</td></tr><tr><td>val_accuracy</td><td>0.84688</td></tr><tr><td>_runtime</td><td>974</td></tr><tr><td>_timestamp</td><td>1619550879</td></tr><tr><td>_step</td><td>11</td></tr><tr><td>best_val_loss</td><td>0.37183</td></tr><tr><td>best_epoch</td><td>3</td></tr><tr><td>f1</td><td>0.86202</td></tr><tr><td>recall</td><td>0.84167</td></tr><tr><td>precision</td><td>0.88338</td></tr></table>"
            ],
            "text/plain": [
              "<IPython.core.display.HTML object>"
            ]
          },
          "metadata": {
            "tags": []
          }
        },
        {
          "output_type": "display_data",
          "data": {
            "text/html": [
              "<h3>Run history:</h3><br/><style>\n",
              "    table.wandb td:nth-child(1) { padding: 0 10px; text-align: right }\n",
              "    </style><table class=\"wandb\">\n",
              "<tr><td>epoch</td><td>▁▃▁▃▅▆█</td></tr><tr><td>loss</td><td>█▂▁▁▁▁▁</td></tr><tr><td>accuracy</td><td>▂▂▁▅▆▇█</td></tr><tr><td>val_loss</td><td>▅▄██▅▁▂</td></tr><tr><td>val_accuracy</td><td>▁▄▄▄▆█▇</td></tr><tr><td>_runtime</td><td>▁▂▃▄▆▇██████</td></tr><tr><td>_timestamp</td><td>▁▂▃▄▆▇██████</td></tr><tr><td>_step</td><td>▁▂▂▃▄▄▅▅▆▇▇█</td></tr><tr><td>f1</td><td>▁</td></tr><tr><td>recall</td><td>▁</td></tr><tr><td>precision</td><td>▁</td></tr></table><br/>"
            ],
            "text/plain": [
              "<IPython.core.display.HTML object>"
            ]
          },
          "metadata": {
            "tags": []
          }
        },
        {
          "output_type": "display_data",
          "data": {
            "text/html": [
              "Synced 5 W&B file(s), 3 media file(s), 2 artifact file(s) and 1 other file(s)"
            ],
            "text/plain": [
              "<IPython.core.display.HTML object>"
            ]
          },
          "metadata": {
            "tags": []
          }
        },
        {
          "output_type": "display_data",
          "data": {
            "text/html": [
              "\n",
              "                    <br/>Synced <strong style=\"color:#cdcd00\">mobile_v1</strong>: <a href=\"https://wandb.ai/thiagosouto/xrays_covid19_reborn/runs/1rvfml6g\" target=\"_blank\">https://wandb.ai/thiagosouto/xrays_covid19_reborn/runs/1rvfml6g</a><br/>\n",
              "                "
            ],
            "text/plain": [
              "<IPython.core.display.HTML object>"
            ]
          },
          "metadata": {
            "tags": []
          }
        }
      ]
    },
    {
      "cell_type": "code",
      "metadata": {
        "colab": {
          "base_uri": "https://localhost:8080/"
        },
        "id": "VKIOmFxeuz_v",
        "outputId": "41b06c37-eb6c-42e5-abf5-91fb9444bd26"
      },
      "source": [
        "\n",
        "iap = ImageToArrayPreprocessor()\n",
        "print(\"[INFO] evaluating network...\")\n",
        "testGen = HDF5DatasetGenerator(TEST_HDF5, 30, preprocessors=[iap], classes= args[\"num_classes\"])\n",
        "classNames = [\"COVID\", \"Normal\"]\n",
        "predictions = modelo.predict(testGen.generator(1) ,verbose=1)\n",
        "testY = np.array(testGen.db[\"labels\"])\n",
        "pred = predictions.argmax(axis=1)\n",
        "print(testY.shape)\n",
        "print(pred.shape)\n",
        "\n",
        "!cp -r raiox/vgg16_v2_xrays.model /content/drive/MyDrive/Projeto3/modelos"
      ],
      "execution_count": null,
      "outputs": [
        {
          "output_type": "stream",
          "text": [
            "[INFO] evaluating network...\n",
            "24/24 [==============================] - 8s 327ms/step\n",
            "(720,)\n",
            "(720,)\n"
          ],
          "name": "stdout"
        }
      ]
    },
    {
      "cell_type": "code",
      "metadata": {
        "colab": {
          "base_uri": "https://localhost:8080/"
        },
        "id": "JRO2WPP9sb__",
        "outputId": "19958560-752d-4023-fc10-6d1dc1b1cffe"
      },
      "source": [
        "print(predictions.shape)"
      ],
      "execution_count": null,
      "outputs": [
        {
          "output_type": "stream",
          "text": [
            "(720, 2)\n"
          ],
          "name": "stdout"
        }
      ]
    }
  ]
}